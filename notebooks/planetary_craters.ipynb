{
 "cells": [
  {
   "cell_type": "markdown",
   "id": "c52fc51d-7fc8-408e-9d04-0da77873e407",
   "metadata": {},
   "source": [
    "## Planetary craters: Craters with a name\n",
    "\n",
    "There are seceral databases (see refs.) for planetary crater catalogues. **The quickest option (but LESS complete one)** comes from the IAU/USGS Gazetteer(https://planetarynames.wr.usgs.gov). \n",
    "\n",
    "<div class=\"alert alert-block alert-warning\">\n",
    "    NOTE: the exercise below is not quite accurate: craters have been extracted based on the <b>lack</b> of attributes from all nomenclature files (see Titan example below). Typically craters are the only features not to have attributes, just the name, but that is not always the case. See e.g. Titan and comparison with a published crater database (Hedgepeth, et al., 2020) vs. the subtractive output of the nomenclature.\n",
    "    \n",
    "See also:\n",
    "    \n",
    "https://planetarynames.wr.usgs.gov/Page/Rules\n",
    "    \n",
    "https://planetarynames.wr.usgs.gov/DescriptorTerms\n",
    "</div>\n",
    "\n",
    "Several others are available. I explicitly exclude here those where data are not freely available, i.e. those with statements such as \"data available upon request\". But you can ask authors, in case of interest. The only exception is Titan, where there is no other way than to extract the list from a paper PDF, and it is relatively short and simple. \n",
    "\n",
    "Relevant bibliography is included in the References section at the bottom.\n",
    "\n",
    "Please note that this notebook might be incomplete and should not be used for any research work without thorough checks. \n",
    "\n",
    "In case of inaccuracies, please reach out to [@aprossi](https://github.com/aprossi).\n",
    "\n",
    "Also, for general introductory information, you can access the materials from the past Europlanet GMAP Planetary Geologic Mapping Winter Schools (they do have also contextual information, not just strickly mapping) at:\n",
    "\n",
    "https://www.planetarymapping.eu\n",
    "\n",
    "See also: https://github.com/europlanet-gmap/winter-school-2023\n",
    "\n",
    "\n",
    "<div class=\"alert alert-block alert-info\">\n",
    "    NOTE: data are loaded from geojson generated from the above nomenclature, after filtering. Geojson does not work with custom CRS, assumes EPSG:4326. If I am not mistaken this was taken out at some poitn in the past from draft specifications.. Anywya, once data are onto geopandas, a CRS can be added, see below, and e.g. exported to Geopackage, that does support custom CRS. Please see also:\n",
    "    \n",
    "https://github.com/europlanet-gmap/winter-school-2023/tree/main/crs\n",
    "</div>\n",
    "\n",
    "Some examples of database access/use are included in [crater_databases.ipynb](./crater_databases.ipynb)"
   ]
  },
  {
   "cell_type": "code",
   "execution_count": 2,
   "id": "c04c58e2-26f5-4f40-9dc0-2acc33413c31",
   "metadata": {},
   "outputs": [],
   "source": [
    "import pandas as pd\n",
    "import geopandas as gpd\n",
    "import matplotlib.pyplot as plt\n",
    "from pyproj import CRS"
   ]
  },
  {
   "cell_type": "code",
   "execution_count": 3,
   "id": "ad7389ad-a8e1-4335-8b1b-c7ff439be26c",
   "metadata": {},
   "outputs": [],
   "source": [
    "# radii, you can fix as neeeded\n",
    "# see also https://raw.githubusercontent.com/pdssp/csvforwkt/main/data/naifcodes_radii_m_wAsteroids_IAU2015.csv\n",
    "\n",
    "r_mercury = 2439400 # 2439700(IAU)\n",
    "r_venus = 6051000 # 6051800 (IAU )\n",
    "r_moon = 1737400 \n",
    "r_mars = 3396190 #(large semimajor)\n",
    "r_ceres = 470000  # 476200 (IAU )\n",
    "r_titan = 2575000  # 2574730 (IAU )\n",
    "r_europa = 1560800 # 1560800 (IAU )\n",
    "r_callisto = 2410300 # 2410300 (IAU )\n",
    "r_ganymede = 2632345 # 2631200 (IAU )"
   ]
  },
  {
   "cell_type": "markdown",
   "id": "d4fb7ba8-fbfc-4fa7-9c23-53a2998a1be5",
   "metadata": {},
   "source": [
    "## Earth\n",
    "\n",
    "Data from Schmieder & Kring (2020). In this case data were extracted from an open-access article, originally in html table format. It is plenty of nice reviews but I could not find any accessible, easily parsed table of Terrestrial craters. Even very well-known Earth impact databases are finally not that accessible.\n",
    "\n",
    "Looking up on GitHub, it seems someone web-scraped the latter, though:\n",
    "see https://github.com/xnx/impact-craters/blob/master/Earth%20Impact%20Craters.ipynb\n",
    "\n",
    "Some fixes were manually applied to the geojson below (e.g. longitude of Ilumetsa/Morasko switched). The accuracy is not extreme (2 decimal digits of degrees)."
   ]
  },
  {
   "cell_type": "code",
   "execution_count": 4,
   "id": "38a7b129-d38a-4830-b9f5-e520090efaa8",
   "metadata": {},
   "outputs": [],
   "source": [
    "input = '../data/earth_schmieder_kring_2020.geojson'\n",
    "earth_craters=gpd.read_file(input)"
   ]
  },
  {
   "cell_type": "code",
   "execution_count": 5,
   "id": "d684cb5d-144f-426e-b24a-b668d4ead43c",
   "metadata": {},
   "outputs": [
    {
     "data": {
      "text/html": [
       "<div>\n",
       "<style scoped>\n",
       "    .dataframe tbody tr th:only-of-type {\n",
       "        vertical-align: middle;\n",
       "    }\n",
       "\n",
       "    .dataframe tbody tr th {\n",
       "        vertical-align: top;\n",
       "    }\n",
       "\n",
       "    .dataframe thead th {\n",
       "        text-align: right;\n",
       "    }\n",
       "</style>\n",
       "<table border=\"1\" class=\"dataframe\">\n",
       "  <thead>\n",
       "    <tr style=\"text-align: right;\">\n",
       "      <th></th>\n",
       "      <th>No</th>\n",
       "      <th>Impact structure</th>\n",
       "      <th>Country</th>\n",
       "      <th>Latitude</th>\n",
       "      <th>Longitude</th>\n",
       "      <th>Diameter (km)</th>\n",
       "      <th>Type of target rocka</th>\n",
       "      <th>Type of impactorb</th>\n",
       "      <th>Stratigraphic age constraints</th>\n",
       "      <th>Radioisotopic age constraints</th>\n",
       "      <th>Other age constraints</th>\n",
       "      <th>Recommended age (Ma)</th>\n",
       "      <th>Recommended age referencec</th>\n",
       "      <th>Pre-recalculation age (Ma)</th>\n",
       "      <th>field_15</th>\n",
       "      <th>field_16</th>\n",
       "      <th>geometry</th>\n",
       "    </tr>\n",
       "  </thead>\n",
       "  <tbody>\n",
       "    <tr>\n",
       "      <th>0</th>\n",
       "      <td>1</td>\n",
       "      <td>Chelyabinskd</td>\n",
       "      <td>Russia</td>\n",
       "      <td>55°58′N</td>\n",
       "      <td>60°18′E</td>\n",
       "      <td>0.007</td>\n",
       "      <td>Ice</td>\n",
       "      <td>LL-chondrite</td>\n",
       "      <td>Recent</td>\n",
       "      <td>None</td>\n",
       "      <td>Fall February 15, 2013, main mass left 8 m-wid...</td>\n",
       "      <td>0.000006</td>\n",
       "      <td>Borovička et al.(2013)</td>\n",
       "      <td>None</td>\n",
       "      <td>None</td>\n",
       "      <td>None</td>\n",
       "      <td>POINT (60.30000 55.15000)</td>\n",
       "    </tr>\n",
       "    <tr>\n",
       "      <th>1</th>\n",
       "      <td>2</td>\n",
       "      <td>Carancas</td>\n",
       "      <td>Peru</td>\n",
       "      <td>16°40′S</td>\n",
       "      <td>69°02′W</td>\n",
       "      <td>0.0135</td>\n",
       "      <td>Sedimentary</td>\n",
       "      <td>H-chondrite</td>\n",
       "      <td>Recent</td>\n",
       "      <td>None</td>\n",
       "      <td>Fall September 15, 2007</td>\n",
       "      <td>0.000012</td>\n",
       "      <td>Tancredi et al.(2009)</td>\n",
       "      <td>None</td>\n",
       "      <td>None</td>\n",
       "      <td>None</td>\n",
       "      <td>POINT (-69.03333 -16.66667)</td>\n",
       "    </tr>\n",
       "    <tr>\n",
       "      <th>2</th>\n",
       "      <td>3</td>\n",
       "      <td>Sterlitamake</td>\n",
       "      <td>Russia</td>\n",
       "      <td>53°40′N</td>\n",
       "      <td>55°59′E</td>\n",
       "      <td>0.0094</td>\n",
       "      <td>Sedimentary (soil, loam)</td>\n",
       "      <td>IIIAB iron</td>\n",
       "      <td>Recent</td>\n",
       "      <td>None</td>\n",
       "      <td>Fall May 17, 1990</td>\n",
       "      <td>0.000029</td>\n",
       "      <td>Petaev (1992)</td>\n",
       "      <td>None</td>\n",
       "      <td>None</td>\n",
       "      <td>None</td>\n",
       "      <td>POINT (55.98333 53.66667)</td>\n",
       "    </tr>\n",
       "    <tr>\n",
       "      <th>3</th>\n",
       "      <td>4</td>\n",
       "      <td>Sikhote Alin (Field)f</td>\n",
       "      <td>Russia</td>\n",
       "      <td>46°09′N</td>\n",
       "      <td>134°39′E</td>\n",
       "      <td>0.027</td>\n",
       "      <td>Crystalline</td>\n",
       "      <td>IIAB iron</td>\n",
       "      <td>Recent</td>\n",
       "      <td>None</td>\n",
       "      <td>Fall February12, 1947</td>\n",
       "      <td>0.000072</td>\n",
       "      <td>Krinov (1971)</td>\n",
       "      <td>None</td>\n",
       "      <td>None</td>\n",
       "      <td>None</td>\n",
       "      <td>POINT (134.65000 46.15000)</td>\n",
       "    </tr>\n",
       "    <tr>\n",
       "      <th>4</th>\n",
       "      <td>5</td>\n",
       "      <td>Imilace</td>\n",
       "      <td>Chile</td>\n",
       "      <td>24°12′S</td>\n",
       "      <td>68°48′W</td>\n",
       "      <td>0.015</td>\n",
       "      <td>Crystalline (volcanic, soil)</td>\n",
       "      <td>Pallasite</td>\n",
       "      <td>Recent</td>\n",
       "      <td>None</td>\n",
       "      <td>Found 1822 AD; fall produced ∼15 m-wide impact...</td>\n",
       "      <td>&gt;0.0002</td>\n",
       "      <td>Buchwald (1973); Bevan (2006)</td>\n",
       "      <td>None</td>\n",
       "      <td>None</td>\n",
       "      <td>None</td>\n",
       "      <td>POINT (-68.80000 -24.20000)</td>\n",
       "    </tr>\n",
       "  </tbody>\n",
       "</table>\n",
       "</div>"
      ],
      "text/plain": [
       "   No       Impact structure Country Latitude Longitude Diameter (km)  \\\n",
       "0   1           Chelyabinskd  Russia  55°58′N   60°18′E         0.007   \n",
       "1   2               Carancas    Peru  16°40′S   69°02′W        0.0135   \n",
       "2   3           Sterlitamake  Russia  53°40′N   55°59′E        0.0094   \n",
       "3   4  Sikhote Alin (Field)f  Russia  46°09′N  134°39′E         0.027   \n",
       "4   5                Imilace   Chile  24°12′S   68°48′W         0.015   \n",
       "\n",
       "           Type of target rocka Type of impactorb  \\\n",
       "0                           Ice      LL-chondrite   \n",
       "1                   Sedimentary       H-chondrite   \n",
       "2      Sedimentary (soil, loam)        IIIAB iron   \n",
       "3                   Crystalline         IIAB iron   \n",
       "4  Crystalline (volcanic, soil)         Pallasite   \n",
       "\n",
       "  Stratigraphic age constraints Radioisotopic age constraints  \\\n",
       "0                        Recent                          None   \n",
       "1                        Recent                          None   \n",
       "2                        Recent                          None   \n",
       "3                        Recent                          None   \n",
       "4                        Recent                          None   \n",
       "\n",
       "                               Other age constraints Recommended age (Ma)  \\\n",
       "0  Fall February 15, 2013, main mass left 8 m-wid...             0.000006   \n",
       "1                            Fall September 15, 2007             0.000012   \n",
       "2                                  Fall May 17, 1990             0.000029   \n",
       "3                              Fall February12, 1947             0.000072   \n",
       "4  Found 1822 AD; fall produced ∼15 m-wide impact...              >0.0002   \n",
       "\n",
       "      Recommended age referencec Pre-recalculation age (Ma) field_15 field_16  \\\n",
       "0         Borovička et al.(2013)                       None     None     None   \n",
       "1          Tancredi et al.(2009)                       None     None     None   \n",
       "2                  Petaev (1992)                       None     None     None   \n",
       "3                  Krinov (1971)                       None     None     None   \n",
       "4  Buchwald (1973); Bevan (2006)                       None     None     None   \n",
       "\n",
       "                      geometry  \n",
       "0    POINT (60.30000 55.15000)  \n",
       "1  POINT (-69.03333 -16.66667)  \n",
       "2    POINT (55.98333 53.66667)  \n",
       "3   POINT (134.65000 46.15000)  \n",
       "4  POINT (-68.80000 -24.20000)  "
      ]
     },
     "execution_count": 5,
     "metadata": {},
     "output_type": "execute_result"
    }
   ],
   "source": [
    "earth_craters.head()"
   ]
  },
  {
   "cell_type": "code",
   "execution_count": 6,
   "id": "04bcae6e-eba4-4217-af4e-1dfbc01406c4",
   "metadata": {},
   "outputs": [
    {
     "data": {
      "text/plain": [
       "<AxesSubplot:>"
      ]
     },
     "execution_count": 6,
     "metadata": {},
     "output_type": "execute_result"
    },
    {
     "data": {
      "image/png": "[encoded data removed]",
      "text/plain": [
       "<Figure size 864x432 with 1 Axes>"
      ]
     },
     "metadata": {
      "needs_background": "light"
     },
     "output_type": "display_data"
    }
   ],
   "source": [
    "# plot crater location \n",
    "\n",
    "world = gpd.read_file(gpd.datasets.get_path('naturalearth_lowres'))\n",
    "ax1 = world.plot(figsize=(12, 6))\n",
    "earth_craters.plot(ax=ax1, c='red')"
   ]
  },
  {
   "cell_type": "markdown",
   "id": "bb5925c1-154b-4806-ae30-d5db9e152626",
   "metadata": {},
   "source": [
    "### Other Terrestrial crater databases\n",
    "\n",
    "* A nice review is provided by Kenkmann (2021). but the table is not easily parsed\n",
    "* The Earth Impact Database is not easily parsed - http://www.passc.net/EarthImpactDatabase"
   ]
  },
  {
   "cell_type": "markdown",
   "id": "ad5e0624-8cec-43c1-b4f8-86d2df34bb95",
   "metadata": {},
   "source": [
    "## The Moon\n",
    "\n",
    "This is simply a plot of craters with a name from the official IAU/USGS gazetteer. There are other larger databases of craters, largely without a name.\n",
    "\n",
    "Data Source USGS - https://planetarynames.wr.usgs.gov"
   ]
  },
  {
   "cell_type": "code",
   "execution_count": 7,
   "id": "e4f00bf2-16b8-419e-b980-b444d3b15237",
   "metadata": {},
   "outputs": [
    {
     "data": {
      "text/html": [
       "<div>\n",
       "<style scoped>\n",
       "    .dataframe tbody tr th:only-of-type {\n",
       "        vertical-align: middle;\n",
       "    }\n",
       "\n",
       "    .dataframe tbody tr th {\n",
       "        vertical-align: top;\n",
       "    }\n",
       "\n",
       "    .dataframe thead th {\n",
       "        text-align: right;\n",
       "    }\n",
       "</style>\n",
       "<table border=\"1\" class=\"dataframe\">\n",
       "  <thead>\n",
       "    <tr style=\"text-align: right;\">\n",
       "      <th></th>\n",
       "      <th>Feature Name</th>\n",
       "      <th>Target</th>\n",
       "      <th>Diameter</th>\n",
       "      <th>Center Latitude</th>\n",
       "      <th>Center Longitude 360E+</th>\n",
       "      <th>Center Longitude 180E+</th>\n",
       "      <th>Coordinate System</th>\n",
       "      <th>Approval Status</th>\n",
       "      <th>Approval Date</th>\n",
       "      <th>Origin</th>\n",
       "      <th>geometry</th>\n",
       "    </tr>\n",
       "  </thead>\n",
       "  <tbody>\n",
       "    <tr>\n",
       "      <th>0</th>\n",
       "      <td>8 Homeward</td>\n",
       "      <td>Moon</td>\n",
       "      <td>12.52</td>\n",
       "      <td>-12.02</td>\n",
       "      <td>97.09</td>\n",
       "      <td>97.09</td>\n",
       "      <td>Planetographic, +East, -180 - 180</td>\n",
       "      <td>Approved</td>\n",
       "      <td>Oct 05, 2018</td>\n",
       "      <td>Crater visible in the iconic “Earthrise” colou...</td>\n",
       "      <td>POINT (97.09000 -12.02000)</td>\n",
       "    </tr>\n",
       "    <tr>\n",
       "      <th>1</th>\n",
       "      <td>Abbe</td>\n",
       "      <td>Moon</td>\n",
       "      <td>63.98</td>\n",
       "      <td>-57.58</td>\n",
       "      <td>174.77</td>\n",
       "      <td>174.77</td>\n",
       "      <td>Planetographic, +East, -180 - 180</td>\n",
       "      <td>Approved</td>\n",
       "      <td>1970</td>\n",
       "      <td>Ernst Karl; German optician, physicist, astron...</td>\n",
       "      <td>POINT (174.77000 -57.58000)</td>\n",
       "    </tr>\n",
       "    <tr>\n",
       "      <th>2</th>\n",
       "      <td>Abbe H</td>\n",
       "      <td>Moon</td>\n",
       "      <td>25.13</td>\n",
       "      <td>-58.44</td>\n",
       "      <td>177.58</td>\n",
       "      <td>177.58</td>\n",
       "      <td>Planetographic, +East, -180 - 180</td>\n",
       "      <td>Approved</td>\n",
       "      <td>2006</td>\n",
       "      <td>Ernst Karl; German optician, physicist, astron...</td>\n",
       "      <td>POINT (177.58000 -58.44000)</td>\n",
       "    </tr>\n",
       "    <tr>\n",
       "      <th>3</th>\n",
       "      <td>Abbe K</td>\n",
       "      <td>Moon</td>\n",
       "      <td>26.10</td>\n",
       "      <td>-59.82</td>\n",
       "      <td>176.86</td>\n",
       "      <td>176.86</td>\n",
       "      <td>Planetographic, +East, -180 - 180</td>\n",
       "      <td>Approved</td>\n",
       "      <td>2006</td>\n",
       "      <td>Ernst Karl; German optician, physicist, astron...</td>\n",
       "      <td>POINT (176.86000 -59.82000)</td>\n",
       "    </tr>\n",
       "    <tr>\n",
       "      <th>4</th>\n",
       "      <td>Abbe M</td>\n",
       "      <td>Moon</td>\n",
       "      <td>28.61</td>\n",
       "      <td>-61.75</td>\n",
       "      <td>175.24</td>\n",
       "      <td>175.24</td>\n",
       "      <td>Planetographic, +East, -180 - 180</td>\n",
       "      <td>Approved</td>\n",
       "      <td>2006</td>\n",
       "      <td>Ernst Karl; German optician, physicist, astron...</td>\n",
       "      <td>POINT (175.24000 -61.75000)</td>\n",
       "    </tr>\n",
       "  </tbody>\n",
       "</table>\n",
       "</div>"
      ],
      "text/plain": [
       "  Feature Name Target  Diameter  Center Latitude  Center Longitude 360E+  \\\n",
       "0   8 Homeward   Moon     12.52           -12.02                   97.09   \n",
       "1         Abbe   Moon     63.98           -57.58                  174.77   \n",
       "2       Abbe H   Moon     25.13           -58.44                  177.58   \n",
       "3       Abbe K   Moon     26.10           -59.82                  176.86   \n",
       "4       Abbe M   Moon     28.61           -61.75                  175.24   \n",
       "\n",
       "   Center Longitude 180E+                  Coordinate System Approval Status  \\\n",
       "0                   97.09  Planetographic, +East, -180 - 180        Approved   \n",
       "1                  174.77  Planetographic, +East, -180 - 180        Approved   \n",
       "2                  177.58  Planetographic, +East, -180 - 180        Approved   \n",
       "3                  176.86  Planetographic, +East, -180 - 180        Approved   \n",
       "4                  175.24  Planetographic, +East, -180 - 180        Approved   \n",
       "\n",
       "  Approval Date                                             Origin  \\\n",
       "0  Oct 05, 2018  Crater visible in the iconic “Earthrise” colou...   \n",
       "1          1970  Ernst Karl; German optician, physicist, astron...   \n",
       "2          2006  Ernst Karl; German optician, physicist, astron...   \n",
       "3          2006  Ernst Karl; German optician, physicist, astron...   \n",
       "4          2006  Ernst Karl; German optician, physicist, astron...   \n",
       "\n",
       "                      geometry  \n",
       "0   POINT (97.09000 -12.02000)  \n",
       "1  POINT (174.77000 -57.58000)  \n",
       "2  POINT (177.58000 -58.44000)  \n",
       "3  POINT (176.86000 -59.82000)  \n",
       "4  POINT (175.24000 -61.75000)  "
      ]
     },
     "execution_count": 7,
     "metadata": {},
     "output_type": "execute_result"
    }
   ],
   "source": [
    "input = '../data/moon_craters.geojson'\n",
    "moon_craters=gpd.read_file(input)\n",
    "moon_craters.head()"
   ]
  },
  {
   "cell_type": "code",
   "execution_count": 8,
   "id": "c8fa6c7a-b9ce-41ba-b391-974d05dc4bc5",
   "metadata": {},
   "outputs": [
    {
     "name": "stdout",
     "output_type": "stream",
     "text": [
      "+proj=latlong +R=1737400 +no_defs +type=crs\n"
     ]
    },
    {
     "data": {
      "text/plain": [
       "<Geographic 2D CRS: +proj=latlong +R=1737400 +no_defs +type=crs>\n",
       "Name: unknown\n",
       "Axis Info [ellipsoidal]:\n",
       "- lon[east]: Longitude (degree)\n",
       "- lat[north]: Latitude (degree)\n",
       "Area of Use:\n",
       "- undefined\n",
       "Datum: unknown\n",
       "- Ellipsoid: unknown\n",
       "- Prime Meridian: Reference meridian"
      ]
     },
     "execution_count": 8,
     "metadata": {},
     "output_type": "execute_result"
    }
   ],
   "source": [
    "# overwrite crs\n",
    "print(CRS.from_proj4(str('+proj=latlong +R='+str(r_moon))+' +no_defs'))\n",
    "\n",
    "moon_craters.set_crs(CRS.from_proj4(str('+proj=latlong +R='+str(r_moon))+' +no_defs'), inplace=True, allow_override=True)\n",
    "moon_craters.crs"
   ]
  },
  {
   "cell_type": "code",
   "execution_count": 9,
   "id": "05f96ff3-6ba2-4d8e-9774-d5e4edb59c24",
   "metadata": {},
   "outputs": [
    {
     "data": {
      "text/plain": [
       "<AxesSubplot:>"
      ]
     },
     "execution_count": 9,
     "metadata": {},
     "output_type": "execute_result"
    },
    {
     "data": {
      "image/png": "[encoded data removed]",
      "text/plain": [
       "<Figure size 864x432 with 1 Axes>"
      ]
     },
     "metadata": {
      "needs_background": "light"
     },
     "output_type": "display_data"
    }
   ],
   "source": [
    "# plot crater location \n",
    "\n",
    "# moon = gpd.read_file(gpd.datasets.get_path('naturalearth_lowres'))\n",
    "# ax1 = world.plot(figsize=(12, 6))\n",
    "moon_craters.plot(figsize=(12, 6),c='red')"
   ]
  },
  {
   "cell_type": "markdown",
   "id": "26194d10-afba-45df-be18-d408decb5268",
   "metadata": {},
   "source": [
    "### Other lunar crater databases\n",
    "\n",
    "* Robbins Moon crater database - https://astrogeology.usgs.gov/search/map/Moon/Research/Craters/lunar_crater_database_robbins_2018\n",
    "* Wang Moon crater database - https://zenodo.org/record/4983248#.Y_x3ly8w1qs\n",
    "* Deep crater lunar database - https://figshare.com/articles/dataset/CE_DeepCraters/12768539/1\n",
    "* Moon Crater database Salamuniccar - https://astrogeology.usgs.gov/search/map/Moon/Research/Craters/GoranSalamuniccar_MoonCraters\n",
    "\n",
    "see also https://github.com/aprossi/impact-cratering/tree/main/data#planetary-crater-databases"
   ]
  },
  {
   "cell_type": "markdown",
   "id": "e22b0f8d-ad8f-4c9f-8726-74cbd723d7ad",
   "metadata": {},
   "source": [
    "## Mercury\n",
    "\n",
    "This is simply a plot of craters with a name from the official IAU/USGS gazetteer. There are other larger databases of craters, largely without a name.\n",
    "\n",
    "Data Source USGS - https://planetarynames.wr.usgs.gov"
   ]
  },
  {
   "cell_type": "code",
   "execution_count": 10,
   "id": "996a5142-7566-4f1f-86ec-aca47b52b965",
   "metadata": {},
   "outputs": [
    {
     "data": {
      "text/html": [
       "<div>\n",
       "<style scoped>\n",
       "    .dataframe tbody tr th:only-of-type {\n",
       "        vertical-align: middle;\n",
       "    }\n",
       "\n",
       "    .dataframe tbody tr th {\n",
       "        vertical-align: top;\n",
       "    }\n",
       "\n",
       "    .dataframe thead th {\n",
       "        text-align: right;\n",
       "    }\n",
       "</style>\n",
       "<table border=\"1\" class=\"dataframe\">\n",
       "  <thead>\n",
       "    <tr style=\"text-align: right;\">\n",
       "      <th></th>\n",
       "      <th>Feature Name</th>\n",
       "      <th>Target</th>\n",
       "      <th>Diameter</th>\n",
       "      <th>Center Latitude</th>\n",
       "      <th>Center Longitude 360E+</th>\n",
       "      <th>Center Longitude 180E+</th>\n",
       "      <th>Coordinate System</th>\n",
       "      <th>Approval Status</th>\n",
       "      <th>Approval Date</th>\n",
       "      <th>Origin</th>\n",
       "      <th>geometry</th>\n",
       "    </tr>\n",
       "  </thead>\n",
       "  <tbody>\n",
       "    <tr>\n",
       "      <th>0</th>\n",
       "      <td>Abedin</td>\n",
       "      <td>Mercury</td>\n",
       "      <td>116.23</td>\n",
       "      <td>61.73</td>\n",
       "      <td>349.34</td>\n",
       "      <td>-10.66</td>\n",
       "      <td>Planetographic, +West, 0 - 360</td>\n",
       "      <td>Approved</td>\n",
       "      <td>Jul 09, 2009</td>\n",
       "      <td>Zainul; Bangladeshi painter and printmaker (19...</td>\n",
       "      <td>POINT (-10.66000 61.73000)</td>\n",
       "    </tr>\n",
       "    <tr>\n",
       "      <th>1</th>\n",
       "      <td>Abu Nuwas</td>\n",
       "      <td>Mercury</td>\n",
       "      <td>117.00</td>\n",
       "      <td>17.63</td>\n",
       "      <td>338.81</td>\n",
       "      <td>-21.19</td>\n",
       "      <td>Planetographic, +West, 0 - 360</td>\n",
       "      <td>Approved</td>\n",
       "      <td>1976</td>\n",
       "      <td>Arab poet (c. 1756-1810).</td>\n",
       "      <td>POINT (-21.19000 17.63000)</td>\n",
       "    </tr>\n",
       "    <tr>\n",
       "      <th>2</th>\n",
       "      <td>Africanus Horton</td>\n",
       "      <td>Mercury</td>\n",
       "      <td>140.00</td>\n",
       "      <td>-50.96</td>\n",
       "      <td>318.81</td>\n",
       "      <td>-41.19</td>\n",
       "      <td>Planetographic, +West, 0 - 360</td>\n",
       "      <td>Approved</td>\n",
       "      <td>1976</td>\n",
       "      <td>(James Beale); Sierra Leonean author, folklori...</td>\n",
       "      <td>POINT (-41.19000 -50.96000)</td>\n",
       "    </tr>\n",
       "    <tr>\n",
       "      <th>3</th>\n",
       "      <td>Ahmad Baba</td>\n",
       "      <td>Mercury</td>\n",
       "      <td>126.00</td>\n",
       "      <td>58.33</td>\n",
       "      <td>231.65</td>\n",
       "      <td>-128.35</td>\n",
       "      <td>Planetographic, +West, 0 - 360</td>\n",
       "      <td>Approved</td>\n",
       "      <td>1979</td>\n",
       "      <td>Abu-a;-Abbas Aj,Ad Obm Aj,Ad a;-Takruri Al-Mas...</td>\n",
       "      <td>POINT (-128.35000 58.33000)</td>\n",
       "    </tr>\n",
       "    <tr>\n",
       "      <th>4</th>\n",
       "      <td>Ailey</td>\n",
       "      <td>Mercury</td>\n",
       "      <td>23.00</td>\n",
       "      <td>45.58</td>\n",
       "      <td>177.92</td>\n",
       "      <td>177.92</td>\n",
       "      <td>Planetographic, +West, 0 - 360</td>\n",
       "      <td>Approved</td>\n",
       "      <td>Apr 24, 2012</td>\n",
       "      <td>Alvin; American dancer and choreographer (1931...</td>\n",
       "      <td>POINT (177.92000 45.58000)</td>\n",
       "    </tr>\n",
       "  </tbody>\n",
       "</table>\n",
       "</div>"
      ],
      "text/plain": [
       "       Feature Name   Target  Diameter  Center Latitude  \\\n",
       "0            Abedin  Mercury    116.23            61.73   \n",
       "1         Abu Nuwas  Mercury    117.00            17.63   \n",
       "2  Africanus Horton  Mercury    140.00           -50.96   \n",
       "3        Ahmad Baba  Mercury    126.00            58.33   \n",
       "4             Ailey  Mercury     23.00            45.58   \n",
       "\n",
       "   Center Longitude 360E+  Center Longitude 180E+  \\\n",
       "0                  349.34                  -10.66   \n",
       "1                  338.81                  -21.19   \n",
       "2                  318.81                  -41.19   \n",
       "3                  231.65                 -128.35   \n",
       "4                  177.92                  177.92   \n",
       "\n",
       "                Coordinate System Approval Status Approval Date  \\\n",
       "0  Planetographic, +West, 0 - 360        Approved  Jul 09, 2009   \n",
       "1  Planetographic, +West, 0 - 360        Approved          1976   \n",
       "2  Planetographic, +West, 0 - 360        Approved          1976   \n",
       "3  Planetographic, +West, 0 - 360        Approved          1979   \n",
       "4  Planetographic, +West, 0 - 360        Approved  Apr 24, 2012   \n",
       "\n",
       "                                              Origin  \\\n",
       "0  Zainul; Bangladeshi painter and printmaker (19...   \n",
       "1                          Arab poet (c. 1756-1810).   \n",
       "2  (James Beale); Sierra Leonean author, folklori...   \n",
       "3  Abu-a;-Abbas Aj,Ad Obm Aj,Ad a;-Takruri Al-Mas...   \n",
       "4  Alvin; American dancer and choreographer (1931...   \n",
       "\n",
       "                      geometry  \n",
       "0   POINT (-10.66000 61.73000)  \n",
       "1   POINT (-21.19000 17.63000)  \n",
       "2  POINT (-41.19000 -50.96000)  \n",
       "3  POINT (-128.35000 58.33000)  \n",
       "4   POINT (177.92000 45.58000)  "
      ]
     },
     "execution_count": 10,
     "metadata": {},
     "output_type": "execute_result"
    }
   ],
   "source": [
    "input = '../data/mercury_craters.geojson'\n",
    "mercury_craters=gpd.read_file(input)\n",
    "mercury_craters.head()"
   ]
  },
  {
   "cell_type": "code",
   "execution_count": 11,
   "id": "a1bb2a77-1cd8-4cc1-9b62-788203fd70d3",
   "metadata": {},
   "outputs": [
    {
     "name": "stdout",
     "output_type": "stream",
     "text": [
      "+proj=latlong +R=2439400 +no_defs +type=crs\n"
     ]
    },
    {
     "data": {
      "text/plain": [
       "<Geographic 2D CRS: +proj=latlong +R=2439400 +no_defs +type=crs>\n",
       "Name: unknown\n",
       "Axis Info [ellipsoidal]:\n",
       "- lon[east]: Longitude (degree)\n",
       "- lat[north]: Latitude (degree)\n",
       "Area of Use:\n",
       "- undefined\n",
       "Datum: unknown\n",
       "- Ellipsoid: unknown\n",
       "- Prime Meridian: Reference meridian"
      ]
     },
     "execution_count": 11,
     "metadata": {},
     "output_type": "execute_result"
    }
   ],
   "source": [
    "# overwrite crs\n",
    "print(CRS.from_proj4(str('+proj=latlong +R='+str(r_mercury))+' +no_defs'))\n",
    "\n",
    "mercury_craters.set_crs(CRS.from_proj4(str('+proj=latlong +R='+str(r_mercury))+' +no_defs'), inplace=True, allow_override=True)\n",
    "mercury_craters.crs"
   ]
  },
  {
   "cell_type": "code",
   "execution_count": 12,
   "id": "fcd30cc9-1a07-4f7a-adcd-3212ae9597c7",
   "metadata": {},
   "outputs": [
    {
     "data": {
      "text/plain": [
       "<AxesSubplot:>"
      ]
     },
     "execution_count": 12,
     "metadata": {},
     "output_type": "execute_result"
    },
    {
     "data": {
      "image/png": "[encoded data removed]",
      "text/plain": [
       "<Figure size 864x432 with 1 Axes>"
      ]
     },
     "metadata": {
      "needs_background": "light"
     },
     "output_type": "display_data"
    }
   ],
   "source": [
    "mercury_craters.plot(figsize=(12, 6),c='red')"
   ]
  },
  {
   "cell_type": "markdown",
   "id": "520d81ad-5542-4061-a3df-97126f9b4a0a",
   "metadata": {},
   "source": [
    "### Other Mercury crater databases\n",
    "\n",
    "* Mercury crater database (Herrick) - https://sites.google.com/alaska.edu/robertherrick/resources/mercury-global-crater-database\n",
    "* Mercury crater database (Orgel) - https://data.mendeley.com/datasets/vf2sfbdvzr/1\n",
    " * Mercury crater database (Fasett) - (original Brown web down, but available from e.g. https://web.archive.org/web/20190208070832/http://www.planetary.brown.edu/html_pages/mercury_craters.htm)"
   ]
  },
  {
   "cell_type": "markdown",
   "id": "255b9286-a954-4823-a0ce-9ac6b36a5a72",
   "metadata": {},
   "source": [
    "## Venus"
   ]
  },
  {
   "cell_type": "code",
   "execution_count": 13,
   "id": "f74fedb7-8a0d-4f7a-b388-aaefc0b1675d",
   "metadata": {},
   "outputs": [
    {
     "data": {
      "text/html": [
       "<div>\n",
       "<style scoped>\n",
       "    .dataframe tbody tr th:only-of-type {\n",
       "        vertical-align: middle;\n",
       "    }\n",
       "\n",
       "    .dataframe tbody tr th {\n",
       "        vertical-align: top;\n",
       "    }\n",
       "\n",
       "    .dataframe thead th {\n",
       "        text-align: right;\n",
       "    }\n",
       "</style>\n",
       "<table border=\"1\" class=\"dataframe\">\n",
       "  <thead>\n",
       "    <tr style=\"text-align: right;\">\n",
       "      <th></th>\n",
       "      <th>Feature Name</th>\n",
       "      <th>Target</th>\n",
       "      <th>Diameter</th>\n",
       "      <th>Center Latitude</th>\n",
       "      <th>Center Longitude 360E+</th>\n",
       "      <th>Center Longitude 180E+</th>\n",
       "      <th>Coordinate System</th>\n",
       "      <th>Approval Status</th>\n",
       "      <th>Approval Date</th>\n",
       "      <th>Origin</th>\n",
       "      <th>geometry</th>\n",
       "    </tr>\n",
       "  </thead>\n",
       "  <tbody>\n",
       "    <tr>\n",
       "      <th>0</th>\n",
       "      <td>Abigail</td>\n",
       "      <td>Venus</td>\n",
       "      <td>18.4</td>\n",
       "      <td>-52.2</td>\n",
       "      <td>111.2</td>\n",
       "      <td>111.2</td>\n",
       "      <td>Planetocentric, +East, 0 - 360</td>\n",
       "      <td>Approved</td>\n",
       "      <td>1994</td>\n",
       "      <td>First name from Hebrew.</td>\n",
       "      <td>POINT (111.20000 -52.20000)</td>\n",
       "    </tr>\n",
       "    <tr>\n",
       "      <th>1</th>\n",
       "      <td>Abika</td>\n",
       "      <td>Venus</td>\n",
       "      <td>14.5</td>\n",
       "      <td>-52.5</td>\n",
       "      <td>104.4</td>\n",
       "      <td>104.4</td>\n",
       "      <td>Planetocentric, +East, 0 - 360</td>\n",
       "      <td>Approved</td>\n",
       "      <td>1994</td>\n",
       "      <td>Mari first name.</td>\n",
       "      <td>POINT (104.40000 -52.50000)</td>\n",
       "    </tr>\n",
       "    <tr>\n",
       "      <th>2</th>\n",
       "      <td>Abington</td>\n",
       "      <td>Venus</td>\n",
       "      <td>21.7</td>\n",
       "      <td>-47.8</td>\n",
       "      <td>277.7</td>\n",
       "      <td>-82.3</td>\n",
       "      <td>Planetocentric, +East, 0 - 360</td>\n",
       "      <td>Approved</td>\n",
       "      <td>1994</td>\n",
       "      <td>Frances; English actress (1737-1815).</td>\n",
       "      <td>POINT (-82.30000 -47.80000)</td>\n",
       "    </tr>\n",
       "    <tr>\n",
       "      <th>3</th>\n",
       "      <td>Abra</td>\n",
       "      <td>Venus</td>\n",
       "      <td>7.2</td>\n",
       "      <td>6.2</td>\n",
       "      <td>97.4</td>\n",
       "      <td>97.4</td>\n",
       "      <td>Planetocentric, +East, 0 - 360</td>\n",
       "      <td>Approved</td>\n",
       "      <td>1997</td>\n",
       "      <td>Ewe first name.</td>\n",
       "      <td>POINT (97.40000 6.20000)</td>\n",
       "    </tr>\n",
       "    <tr>\n",
       "      <th>4</th>\n",
       "      <td>Adaiah</td>\n",
       "      <td>Venus</td>\n",
       "      <td>18.0</td>\n",
       "      <td>-47.3</td>\n",
       "      <td>253.4</td>\n",
       "      <td>-106.6</td>\n",
       "      <td>Planetocentric, +East, 0 - 360</td>\n",
       "      <td>Approved</td>\n",
       "      <td>1994</td>\n",
       "      <td>Hebrew first name.</td>\n",
       "      <td>POINT (-106.60000 -47.30000)</td>\n",
       "    </tr>\n",
       "  </tbody>\n",
       "</table>\n",
       "</div>"
      ],
      "text/plain": [
       "  Feature Name Target  Diameter  Center Latitude  Center Longitude 360E+  \\\n",
       "0      Abigail  Venus      18.4            -52.2                   111.2   \n",
       "1        Abika  Venus      14.5            -52.5                   104.4   \n",
       "2     Abington  Venus      21.7            -47.8                   277.7   \n",
       "3         Abra  Venus       7.2              6.2                    97.4   \n",
       "4       Adaiah  Venus      18.0            -47.3                   253.4   \n",
       "\n",
       "   Center Longitude 180E+               Coordinate System Approval Status  \\\n",
       "0                   111.2  Planetocentric, +East, 0 - 360        Approved   \n",
       "1                   104.4  Planetocentric, +East, 0 - 360        Approved   \n",
       "2                   -82.3  Planetocentric, +East, 0 - 360        Approved   \n",
       "3                    97.4  Planetocentric, +East, 0 - 360        Approved   \n",
       "4                  -106.6  Planetocentric, +East, 0 - 360        Approved   \n",
       "\n",
       "  Approval Date                                 Origin  \\\n",
       "0          1994                First name from Hebrew.   \n",
       "1          1994                       Mari first name.   \n",
       "2          1994  Frances; English actress (1737-1815).   \n",
       "3          1997                        Ewe first name.   \n",
       "4          1994                     Hebrew first name.   \n",
       "\n",
       "                       geometry  \n",
       "0   POINT (111.20000 -52.20000)  \n",
       "1   POINT (104.40000 -52.50000)  \n",
       "2   POINT (-82.30000 -47.80000)  \n",
       "3      POINT (97.40000 6.20000)  \n",
       "4  POINT (-106.60000 -47.30000)  "
      ]
     },
     "execution_count": 13,
     "metadata": {},
     "output_type": "execute_result"
    }
   ],
   "source": [
    "input = '../data/venus_craters.geojson'\n",
    "venus_craters=gpd.read_file(input)\n",
    "venus_craters.head()"
   ]
  },
  {
   "cell_type": "code",
   "execution_count": 14,
   "id": "8c4f291d-1ee2-4e81-9ce1-c58f22b51633",
   "metadata": {},
   "outputs": [
    {
     "name": "stdout",
     "output_type": "stream",
     "text": [
      "+proj=latlong +R=6051000 +no_defs +type=crs\n"
     ]
    },
    {
     "data": {
      "text/plain": [
       "<Geographic 2D CRS: +proj=latlong +R=6051000 +no_defs +type=crs>\n",
       "Name: unknown\n",
       "Axis Info [ellipsoidal]:\n",
       "- lon[east]: Longitude (degree)\n",
       "- lat[north]: Latitude (degree)\n",
       "Area of Use:\n",
       "- undefined\n",
       "Datum: unknown\n",
       "- Ellipsoid: unknown\n",
       "- Prime Meridian: Reference meridian"
      ]
     },
     "execution_count": 14,
     "metadata": {},
     "output_type": "execute_result"
    }
   ],
   "source": [
    "# overwrite crs\n",
    "print(CRS.from_proj4(str('+proj=latlong +R='+str(r_venus))+' +no_defs'))\n",
    "\n",
    "venus_craters.set_crs(CRS.from_proj4(str('+proj=latlong +R='+str(r_venus))+' +no_defs'), inplace=True, allow_override=True)\n",
    "venus_craters.crs"
   ]
  },
  {
   "cell_type": "code",
   "execution_count": 15,
   "id": "9d2f32bf-aabe-4c61-8247-dbbf1fc31758",
   "metadata": {},
   "outputs": [
    {
     "data": {
      "text/plain": [
       "<AxesSubplot:>"
      ]
     },
     "execution_count": 15,
     "metadata": {},
     "output_type": "execute_result"
    },
    {
     "data": {
      "image/png": "[encoded data removed]",
      "text/plain": [
       "<Figure size 864x432 with 1 Axes>"
      ]
     },
     "metadata": {
      "needs_background": "light"
     },
     "output_type": "display_data"
    }
   ],
   "source": [
    "venus_craters.plot(figsize=(12, 6),c='red')"
   ]
  },
  {
   "cell_type": "markdown",
   "id": "8abd0337-b6ad-4c76-a4b8-49a53f02a294",
   "metadata": {},
   "source": [
    "### Other Venus crater databases\n",
    "\n",
    "Sources: \n",
    "* Venus Crater Database (Herrick/LPI) - https://www.lpi.usra.edu/resources/vc/vchome.html\n",
    "* USGS Venus Crater database - https://astrogeology.usgs.gov/search/map/Venus\n",
    "  * https://astropedia.astrogeology.usgs.gov/download/Venus/venuscraters.csv\n",
    "  * https://data.mendeley.com/datasets/mn2b542k5r/2"
   ]
  },
  {
   "cell_type": "markdown",
   "id": "198d3461-3f12-4a67-bb6e-e45216a2b26c",
   "metadata": {},
   "source": [
    "## Mars"
   ]
  },
  {
   "cell_type": "code",
   "execution_count": 16,
   "id": "929e2122-cbe1-4469-8905-a8425169ddff",
   "metadata": {},
   "outputs": [
    {
     "data": {
      "text/html": [
       "<div>\n",
       "<style scoped>\n",
       "    .dataframe tbody tr th:only-of-type {\n",
       "        vertical-align: middle;\n",
       "    }\n",
       "\n",
       "    .dataframe tbody tr th {\n",
       "        vertical-align: top;\n",
       "    }\n",
       "\n",
       "    .dataframe thead th {\n",
       "        text-align: right;\n",
       "    }\n",
       "</style>\n",
       "<table border=\"1\" class=\"dataframe\">\n",
       "  <thead>\n",
       "    <tr style=\"text-align: right;\">\n",
       "      <th></th>\n",
       "      <th>Feature Name</th>\n",
       "      <th>Target</th>\n",
       "      <th>Diameter</th>\n",
       "      <th>Center Latitude</th>\n",
       "      <th>Center Longitude 360E+</th>\n",
       "      <th>Center Longitude 180E+</th>\n",
       "      <th>Coordinate System</th>\n",
       "      <th>Approval Status</th>\n",
       "      <th>Approval Date</th>\n",
       "      <th>Origin</th>\n",
       "      <th>geometry</th>\n",
       "    </tr>\n",
       "  </thead>\n",
       "  <tbody>\n",
       "    <tr>\n",
       "      <th>0</th>\n",
       "      <td>Aarna</td>\n",
       "      <td>Mars</td>\n",
       "      <td>43.00</td>\n",
       "      <td>14.70</td>\n",
       "      <td>338.43</td>\n",
       "      <td>-21.57</td>\n",
       "      <td>Planetocentric, +East, 0 - 360</td>\n",
       "      <td>Approved</td>\n",
       "      <td>Dec 16, 2022</td>\n",
       "      <td>Village in Rajasthan, India.</td>\n",
       "      <td>POINT (-21.57000 14.70000)</td>\n",
       "    </tr>\n",
       "    <tr>\n",
       "      <th>1</th>\n",
       "      <td>Aban</td>\n",
       "      <td>Mars</td>\n",
       "      <td>4.28</td>\n",
       "      <td>15.91</td>\n",
       "      <td>111.10</td>\n",
       "      <td>111.10</td>\n",
       "      <td>Planetocentric, +East, 0 - 360</td>\n",
       "      <td>Approved</td>\n",
       "      <td>1988</td>\n",
       "      <td>Town in Russia.</td>\n",
       "      <td>POINT (111.10000 15.91000)</td>\n",
       "    </tr>\n",
       "    <tr>\n",
       "      <th>2</th>\n",
       "      <td>Abu</td>\n",
       "      <td>Mars</td>\n",
       "      <td>17.00</td>\n",
       "      <td>15.50</td>\n",
       "      <td>337.22</td>\n",
       "      <td>-22.78</td>\n",
       "      <td>Planetocentric, +East, 0 - 360</td>\n",
       "      <td>Approved</td>\n",
       "      <td>Dec 16, 2022</td>\n",
       "      <td>Village in Rajasthan, India.</td>\n",
       "      <td>POINT (-22.78000 15.50000)</td>\n",
       "    </tr>\n",
       "    <tr>\n",
       "      <th>3</th>\n",
       "      <td>Achar</td>\n",
       "      <td>Mars</td>\n",
       "      <td>5.36</td>\n",
       "      <td>45.43</td>\n",
       "      <td>123.16</td>\n",
       "      <td>123.16</td>\n",
       "      <td>Planetocentric, +East, 0 - 360</td>\n",
       "      <td>Approved</td>\n",
       "      <td>1979</td>\n",
       "      <td>Town in Uruguay.</td>\n",
       "      <td>POINT (123.16000 45.43000)</td>\n",
       "    </tr>\n",
       "    <tr>\n",
       "      <th>4</th>\n",
       "      <td>Ada</td>\n",
       "      <td>Mars</td>\n",
       "      <td>2.09</td>\n",
       "      <td>-3.06</td>\n",
       "      <td>356.78</td>\n",
       "      <td>-3.22</td>\n",
       "      <td>Planetocentric, +East, 0 - 360</td>\n",
       "      <td>Approved</td>\n",
       "      <td>Sep 14, 2006</td>\n",
       "      <td>Town in Oklahoma, USA.</td>\n",
       "      <td>POINT (-3.22000 -3.06000)</td>\n",
       "    </tr>\n",
       "  </tbody>\n",
       "</table>\n",
       "</div>"
      ],
      "text/plain": [
       "  Feature Name Target  Diameter  Center Latitude  Center Longitude 360E+  \\\n",
       "0        Aarna   Mars     43.00            14.70                  338.43   \n",
       "1         Aban   Mars      4.28            15.91                  111.10   \n",
       "2          Abu   Mars     17.00            15.50                  337.22   \n",
       "3        Achar   Mars      5.36            45.43                  123.16   \n",
       "4          Ada   Mars      2.09            -3.06                  356.78   \n",
       "\n",
       "   Center Longitude 180E+               Coordinate System Approval Status  \\\n",
       "0                  -21.57  Planetocentric, +East, 0 - 360        Approved   \n",
       "1                  111.10  Planetocentric, +East, 0 - 360        Approved   \n",
       "2                  -22.78  Planetocentric, +East, 0 - 360        Approved   \n",
       "3                  123.16  Planetocentric, +East, 0 - 360        Approved   \n",
       "4                   -3.22  Planetocentric, +East, 0 - 360        Approved   \n",
       "\n",
       "  Approval Date                        Origin                    geometry  \n",
       "0  Dec 16, 2022  Village in Rajasthan, India.  POINT (-21.57000 14.70000)  \n",
       "1          1988               Town in Russia.  POINT (111.10000 15.91000)  \n",
       "2  Dec 16, 2022  Village in Rajasthan, India.  POINT (-22.78000 15.50000)  \n",
       "3          1979              Town in Uruguay.  POINT (123.16000 45.43000)  \n",
       "4  Sep 14, 2006        Town in Oklahoma, USA.   POINT (-3.22000 -3.06000)  "
      ]
     },
     "execution_count": 16,
     "metadata": {},
     "output_type": "execute_result"
    }
   ],
   "source": [
    "input = '../data/mars_craters.geojson'\n",
    "mars_craters=gpd.read_file(input)\n",
    "mars_craters.head()"
   ]
  },
  {
   "cell_type": "code",
   "execution_count": 17,
   "id": "eee4e13b-0a82-4dab-aee3-f0f6e5b1f159",
   "metadata": {},
   "outputs": [
    {
     "name": "stdout",
     "output_type": "stream",
     "text": [
      "+proj=latlong +R=3396190 +no_defs +type=crs\n"
     ]
    },
    {
     "data": {
      "text/plain": [
       "<Geographic 2D CRS: +proj=latlong +R=3396190 +no_defs +type=crs>\n",
       "Name: unknown\n",
       "Axis Info [ellipsoidal]:\n",
       "- lon[east]: Longitude (degree)\n",
       "- lat[north]: Latitude (degree)\n",
       "Area of Use:\n",
       "- undefined\n",
       "Datum: unknown\n",
       "- Ellipsoid: unknown\n",
       "- Prime Meridian: Reference meridian"
      ]
     },
     "execution_count": 17,
     "metadata": {},
     "output_type": "execute_result"
    }
   ],
   "source": [
    "# overwrite CRS\n",
    "print(CRS.from_proj4(str('+proj=latlong +R='+str(r_mars))+' +no_defs'))\n",
    "\n",
    "mars_craters.set_crs(CRS.from_proj4(str('+proj=latlong +R='+str(r_mars))+' +no_defs'), inplace=True, allow_override=True)\n",
    "mars_craters.crs"
   ]
  },
  {
   "cell_type": "code",
   "execution_count": 18,
   "id": "151e79c3-3c7b-42cc-8a8c-1e9fffad88ff",
   "metadata": {},
   "outputs": [
    {
     "data": {
      "text/plain": [
       "<AxesSubplot:>"
      ]
     },
     "execution_count": 18,
     "metadata": {},
     "output_type": "execute_result"
    },
    {
     "data": {
      "image/png": "[encoded data removed]",
      "text/plain": [
       "<Figure size 864x432 with 1 Axes>"
      ]
     },
     "metadata": {
      "needs_background": "light"
     },
     "output_type": "display_data"
    }
   ],
   "source": [
    "mars_craters.plot(figsize=(12, 6),c='red')"
   ]
  },
  {
   "cell_type": "markdown",
   "id": "8e5dd5aa-305c-4ba0-b897-8da38774df92",
   "metadata": {},
   "source": [
    "### Other Venus crater databases\n",
    "\n",
    "Sources: \n",
    "* Mars Crater Database (Robbins) - https://astrogeology.usgs.gov/search/map/Mars/Research/Craters/RobbinsCraterDatabase_20120821\n",
    "* Mars Crater Database (Salamunićcar) - https://astrogeology.usgs.gov/search/map/Mars/Research/Craters/GoranSalamuniccar_MarsCraters\n",
    "* Mars Crater Database (Lagain) - https://github.com/alagain/martian_crater_database\n"
   ]
  },
  {
   "cell_type": "markdown",
   "id": "ed6c10d2-d174-4604-83d3-8be56e5b71d0",
   "metadata": {},
   "source": [
    "## Ceres"
   ]
  },
  {
   "cell_type": "code",
   "execution_count": 19,
   "id": "d1a53658-97e1-4eb0-ada5-c1f1913ccc08",
   "metadata": {},
   "outputs": [
    {
     "data": {
      "text/html": [
       "<div>\n",
       "<style scoped>\n",
       "    .dataframe tbody tr th:only-of-type {\n",
       "        vertical-align: middle;\n",
       "    }\n",
       "\n",
       "    .dataframe tbody tr th {\n",
       "        vertical-align: top;\n",
       "    }\n",
       "\n",
       "    .dataframe thead th {\n",
       "        text-align: right;\n",
       "    }\n",
       "</style>\n",
       "<table border=\"1\" class=\"dataframe\">\n",
       "  <thead>\n",
       "    <tr style=\"text-align: right;\">\n",
       "      <th></th>\n",
       "      <th>Feature Name</th>\n",
       "      <th>Target</th>\n",
       "      <th>Diameter</th>\n",
       "      <th>Center Latitude</th>\n",
       "      <th>Center Longitude 360E+</th>\n",
       "      <th>Center Longitude 180E+</th>\n",
       "      <th>Coordinate System</th>\n",
       "      <th>Approval Status</th>\n",
       "      <th>Approval Date</th>\n",
       "      <th>Origin</th>\n",
       "      <th>geometry</th>\n",
       "    </tr>\n",
       "  </thead>\n",
       "  <tbody>\n",
       "    <tr>\n",
       "      <th>0</th>\n",
       "      <td>Abellio</td>\n",
       "      <td>Ceres</td>\n",
       "      <td>32.0</td>\n",
       "      <td>33.20</td>\n",
       "      <td>293.09</td>\n",
       "      <td>-66.91</td>\n",
       "      <td>Planetocentric, +East, 0 - 360</td>\n",
       "      <td>Approved</td>\n",
       "      <td>Dec 04, 2015</td>\n",
       "      <td>Gaul god of the apple tree.</td>\n",
       "      <td>POINT (-66.91000 33.20000)</td>\n",
       "    </tr>\n",
       "    <tr>\n",
       "      <th>1</th>\n",
       "      <td>Achita</td>\n",
       "      <td>Ceres</td>\n",
       "      <td>40.0</td>\n",
       "      <td>25.82</td>\n",
       "      <td>65.96</td>\n",
       "      <td>65.96</td>\n",
       "      <td>Planetocentric, +East, 0 - 360</td>\n",
       "      <td>Approved</td>\n",
       "      <td>Sep 21, 2015</td>\n",
       "      <td>Nigerian god of agriculture.</td>\n",
       "      <td>POINT (65.96000 25.82000)</td>\n",
       "    </tr>\n",
       "    <tr>\n",
       "      <th>2</th>\n",
       "      <td>Annona</td>\n",
       "      <td>Ceres</td>\n",
       "      <td>60.0</td>\n",
       "      <td>-48.14</td>\n",
       "      <td>8.43</td>\n",
       "      <td>8.43</td>\n",
       "      <td>Planetocentric, +East, 0 - 360</td>\n",
       "      <td>Approved</td>\n",
       "      <td>Dec 14, 2015</td>\n",
       "      <td>Roman goddess of crops and of the harvest.</td>\n",
       "      <td>POINT (8.43000 -48.14000)</td>\n",
       "    </tr>\n",
       "    <tr>\n",
       "      <th>3</th>\n",
       "      <td>Anura</td>\n",
       "      <td>Ceres</td>\n",
       "      <td>37.0</td>\n",
       "      <td>-13.92</td>\n",
       "      <td>11.79</td>\n",
       "      <td>11.79</td>\n",
       "      <td>Planetocentric, +East, 0 - 360</td>\n",
       "      <td>Approved</td>\n",
       "      <td>Oct 01, 2015</td>\n",
       "      <td>Arawakan (Guyana) spirit of the tobacco seeds.</td>\n",
       "      <td>POINT (11.79000 -13.92000)</td>\n",
       "    </tr>\n",
       "    <tr>\n",
       "      <th>4</th>\n",
       "      <td>Aristaeus</td>\n",
       "      <td>Ceres</td>\n",
       "      <td>35.8</td>\n",
       "      <td>23.43</td>\n",
       "      <td>97.68</td>\n",
       "      <td>97.68</td>\n",
       "      <td>Planetocentric, +East, 0 - 360</td>\n",
       "      <td>Approved</td>\n",
       "      <td>Sep 16, 2016</td>\n",
       "      <td>Greek god of agriculture.</td>\n",
       "      <td>POINT (97.68000 23.43000)</td>\n",
       "    </tr>\n",
       "  </tbody>\n",
       "</table>\n",
       "</div>"
      ],
      "text/plain": [
       "  Feature Name Target  Diameter  Center Latitude  Center Longitude 360E+  \\\n",
       "0      Abellio  Ceres      32.0            33.20                  293.09   \n",
       "1       Achita  Ceres      40.0            25.82                   65.96   \n",
       "2       Annona  Ceres      60.0           -48.14                    8.43   \n",
       "3        Anura  Ceres      37.0           -13.92                   11.79   \n",
       "4    Aristaeus  Ceres      35.8            23.43                   97.68   \n",
       "\n",
       "   Center Longitude 180E+               Coordinate System Approval Status  \\\n",
       "0                  -66.91  Planetocentric, +East, 0 - 360        Approved   \n",
       "1                   65.96  Planetocentric, +East, 0 - 360        Approved   \n",
       "2                    8.43  Planetocentric, +East, 0 - 360        Approved   \n",
       "3                   11.79  Planetocentric, +East, 0 - 360        Approved   \n",
       "4                   97.68  Planetocentric, +East, 0 - 360        Approved   \n",
       "\n",
       "  Approval Date                                          Origin  \\\n",
       "0  Dec 04, 2015                     Gaul god of the apple tree.   \n",
       "1  Sep 21, 2015                    Nigerian god of agriculture.   \n",
       "2  Dec 14, 2015      Roman goddess of crops and of the harvest.   \n",
       "3  Oct 01, 2015  Arawakan (Guyana) spirit of the tobacco seeds.   \n",
       "4  Sep 16, 2016                       Greek god of agriculture.   \n",
       "\n",
       "                     geometry  \n",
       "0  POINT (-66.91000 33.20000)  \n",
       "1   POINT (65.96000 25.82000)  \n",
       "2   POINT (8.43000 -48.14000)  \n",
       "3  POINT (11.79000 -13.92000)  \n",
       "4   POINT (97.68000 23.43000)  "
      ]
     },
     "execution_count": 19,
     "metadata": {},
     "output_type": "execute_result"
    }
   ],
   "source": [
    "input = '../data/ceres_craters.geojson'\n",
    "ceres_craters=gpd.read_file(input)\n",
    "ceres_craters.head()"
   ]
  },
  {
   "cell_type": "code",
   "execution_count": 20,
   "id": "a4956545-f4ea-493c-85c8-609eaebf9d33",
   "metadata": {},
   "outputs": [
    {
     "name": "stdout",
     "output_type": "stream",
     "text": [
      "+proj=latlong +R=470000 +no_defs +type=crs\n"
     ]
    },
    {
     "data": {
      "text/plain": [
       "<Geographic 2D CRS: +proj=latlong +R=470000 +no_defs +type=crs>\n",
       "Name: unknown\n",
       "Axis Info [ellipsoidal]:\n",
       "- lon[east]: Longitude (degree)\n",
       "- lat[north]: Latitude (degree)\n",
       "Area of Use:\n",
       "- undefined\n",
       "Datum: unknown\n",
       "- Ellipsoid: unknown\n",
       "- Prime Meridian: Reference meridian"
      ]
     },
     "execution_count": 20,
     "metadata": {},
     "output_type": "execute_result"
    }
   ],
   "source": [
    "# overwrite CRS\n",
    "print(CRS.from_proj4(str('+proj=latlong +R='+str(r_ceres))+' +no_defs'))\n",
    "\n",
    "ceres_craters.set_crs(CRS.from_proj4(str('+proj=latlong +R='+str(r_ceres))+' +no_defs'), inplace=True, allow_override=True)\n",
    "ceres_craters.crs"
   ]
  },
  {
   "cell_type": "code",
   "execution_count": 21,
   "id": "03304764-04f4-4160-beee-0b7ad4fe9313",
   "metadata": {},
   "outputs": [
    {
     "data": {
      "text/plain": [
       "<AxesSubplot:>"
      ]
     },
     "execution_count": 21,
     "metadata": {},
     "output_type": "execute_result"
    },
    {
     "data": {
      "image/png": "[encoded data removed]",
      "text/plain": [
       "<Figure size 864x432 with 1 Axes>"
      ]
     },
     "metadata": {
      "needs_background": "light"
     },
     "output_type": "display_data"
    }
   ],
   "source": [
    "ceres_craters.plot(figsize=(12, 6),c='red')"
   ]
  },
  {
   "cell_type": "markdown",
   "id": "961e851a-7741-4779-b23e-794a87454816",
   "metadata": {},
   "source": [
    "### Other Ceres Crater databases\n",
    "\n",
    "* Ceres USGS crater database (Zeilnhofer) - https://astrogeology.usgs.gov/search/map/Ceres/Dawn/Craters/ceres_dawn_fc2_craterdatabase_zeilnhofer_2020"
   ]
  },
  {
   "cell_type": "markdown",
   "id": "52492d16-5745-4d22-a6b9-ef98e07056e4",
   "metadata": {},
   "source": [
    "## Europa"
   ]
  },
  {
   "cell_type": "code",
   "execution_count": 22,
   "id": "00f4c283-3e93-4c6a-8e23-4002cccb6ba0",
   "metadata": {},
   "outputs": [
    {
     "data": {
      "text/html": [
       "<div>\n",
       "<style scoped>\n",
       "    .dataframe tbody tr th:only-of-type {\n",
       "        vertical-align: middle;\n",
       "    }\n",
       "\n",
       "    .dataframe tbody tr th {\n",
       "        vertical-align: top;\n",
       "    }\n",
       "\n",
       "    .dataframe thead th {\n",
       "        text-align: right;\n",
       "    }\n",
       "</style>\n",
       "<table border=\"1\" class=\"dataframe\">\n",
       "  <thead>\n",
       "    <tr style=\"text-align: right;\">\n",
       "      <th></th>\n",
       "      <th>Feature Name</th>\n",
       "      <th>Target</th>\n",
       "      <th>Diameter</th>\n",
       "      <th>Center Latitude</th>\n",
       "      <th>Center Longitude 360W+</th>\n",
       "      <th>Center Longitude 360E+</th>\n",
       "      <th>Center Longitude 180E+</th>\n",
       "      <th>Coordinate System</th>\n",
       "      <th>Approval Status</th>\n",
       "      <th>Approval Date</th>\n",
       "      <th>Origin</th>\n",
       "      <th>geometry</th>\n",
       "    </tr>\n",
       "  </thead>\n",
       "  <tbody>\n",
       "    <tr>\n",
       "      <th>0</th>\n",
       "      <td>Áine</td>\n",
       "      <td>Europa</td>\n",
       "      <td>5.0</td>\n",
       "      <td>-43.00</td>\n",
       "      <td>177.50</td>\n",
       "      <td>182.50</td>\n",
       "      <td>-177.50</td>\n",
       "      <td>Planetographic, +West, 0 - 360</td>\n",
       "      <td>Approved</td>\n",
       "      <td>2000</td>\n",
       "      <td>Celtic goddess of love and fertility.</td>\n",
       "      <td>POINT (-177.50000 -43.00000)</td>\n",
       "    </tr>\n",
       "    <tr>\n",
       "      <th>1</th>\n",
       "      <td>Amaethon</td>\n",
       "      <td>Europa</td>\n",
       "      <td>1.7</td>\n",
       "      <td>13.82</td>\n",
       "      <td>177.47</td>\n",
       "      <td>182.53</td>\n",
       "      <td>-177.47</td>\n",
       "      <td>Planetographic, +West, 0 - 360</td>\n",
       "      <td>Approved</td>\n",
       "      <td>2006</td>\n",
       "      <td>Celtic god of agriculture.</td>\n",
       "      <td>POINT (-177.47000 13.82000)</td>\n",
       "    </tr>\n",
       "    <tr>\n",
       "      <th>2</th>\n",
       "      <td>Amergin</td>\n",
       "      <td>Europa</td>\n",
       "      <td>17.0</td>\n",
       "      <td>-14.70</td>\n",
       "      <td>230.60</td>\n",
       "      <td>129.40</td>\n",
       "      <td>129.40</td>\n",
       "      <td>Planetographic, +West, 0 - 360</td>\n",
       "      <td>Approved</td>\n",
       "      <td>2000</td>\n",
       "      <td>Legendary Irish druid and poet.</td>\n",
       "      <td>POINT (129.40000 -14.70000)</td>\n",
       "    </tr>\n",
       "    <tr>\n",
       "      <th>3</th>\n",
       "      <td>Angus</td>\n",
       "      <td>Europa</td>\n",
       "      <td>4.5</td>\n",
       "      <td>-12.60</td>\n",
       "      <td>75.10</td>\n",
       "      <td>284.90</td>\n",
       "      <td>-75.10</td>\n",
       "      <td>Planetographic, +West, 0 - 360</td>\n",
       "      <td>Approved</td>\n",
       "      <td>2000</td>\n",
       "      <td>Beautiful Celtic god of love.</td>\n",
       "      <td>POINT (-75.10000 -12.60000)</td>\n",
       "    </tr>\n",
       "    <tr>\n",
       "      <th>4</th>\n",
       "      <td>Avagddu</td>\n",
       "      <td>Europa</td>\n",
       "      <td>10.0</td>\n",
       "      <td>1.40</td>\n",
       "      <td>169.50</td>\n",
       "      <td>190.50</td>\n",
       "      <td>-169.50</td>\n",
       "      <td>Planetographic, +West, 0 - 360</td>\n",
       "      <td>Approved</td>\n",
       "      <td>2000</td>\n",
       "      <td>Celtic storm deity, ill-fated son of Tegid the...</td>\n",
       "      <td>POINT (-169.50000 1.40000)</td>\n",
       "    </tr>\n",
       "  </tbody>\n",
       "</table>\n",
       "</div>"
      ],
      "text/plain": [
       "  Feature Name  Target  Diameter  Center Latitude  Center Longitude 360W+  \\\n",
       "0         Áine  Europa       5.0           -43.00                  177.50   \n",
       "1     Amaethon  Europa       1.7            13.82                  177.47   \n",
       "2      Amergin  Europa      17.0           -14.70                  230.60   \n",
       "3        Angus  Europa       4.5           -12.60                   75.10   \n",
       "4      Avagddu  Europa      10.0             1.40                  169.50   \n",
       "\n",
       "   Center Longitude 360E+  Center Longitude 180E+  \\\n",
       "0                  182.50                 -177.50   \n",
       "1                  182.53                 -177.47   \n",
       "2                  129.40                  129.40   \n",
       "3                  284.90                  -75.10   \n",
       "4                  190.50                 -169.50   \n",
       "\n",
       "                Coordinate System Approval Status Approval Date  \\\n",
       "0  Planetographic, +West, 0 - 360        Approved          2000   \n",
       "1  Planetographic, +West, 0 - 360        Approved          2006   \n",
       "2  Planetographic, +West, 0 - 360        Approved          2000   \n",
       "3  Planetographic, +West, 0 - 360        Approved          2000   \n",
       "4  Planetographic, +West, 0 - 360        Approved          2000   \n",
       "\n",
       "                                              Origin  \\\n",
       "0              Celtic goddess of love and fertility.   \n",
       "1                         Celtic god of agriculture.   \n",
       "2                    Legendary Irish druid and poet.   \n",
       "3                      Beautiful Celtic god of love.   \n",
       "4  Celtic storm deity, ill-fated son of Tegid the...   \n",
       "\n",
       "                       geometry  \n",
       "0  POINT (-177.50000 -43.00000)  \n",
       "1   POINT (-177.47000 13.82000)  \n",
       "2   POINT (129.40000 -14.70000)  \n",
       "3   POINT (-75.10000 -12.60000)  \n",
       "4    POINT (-169.50000 1.40000)  "
      ]
     },
     "execution_count": 22,
     "metadata": {},
     "output_type": "execute_result"
    }
   ],
   "source": [
    "input = '../data/europa_craters.geojson'\n",
    "europa_craters=gpd.read_file(input)\n",
    "europa_craters.head()"
   ]
  },
  {
   "cell_type": "code",
   "execution_count": 23,
   "id": "ba537b4d-8349-476c-ae1f-164f63750e11",
   "metadata": {},
   "outputs": [
    {
     "name": "stdout",
     "output_type": "stream",
     "text": [
      "+proj=latlong +R=1560800 +no_defs +type=crs\n"
     ]
    },
    {
     "data": {
      "text/plain": [
       "<Geographic 2D CRS: +proj=latlong +R=1560800 +no_defs +type=crs>\n",
       "Name: unknown\n",
       "Axis Info [ellipsoidal]:\n",
       "- lon[east]: Longitude (degree)\n",
       "- lat[north]: Latitude (degree)\n",
       "Area of Use:\n",
       "- undefined\n",
       "Datum: unknown\n",
       "- Ellipsoid: unknown\n",
       "- Prime Meridian: Reference meridian"
      ]
     },
     "execution_count": 23,
     "metadata": {},
     "output_type": "execute_result"
    }
   ],
   "source": [
    "# overwrite CRS\n",
    "print(CRS.from_proj4(str('+proj=latlong +R='+str(r_europa))+' +no_defs'))\n",
    "\n",
    "europa_craters.set_crs(CRS.from_proj4(str('+proj=latlong +R='+str(r_europa))+' +no_defs'), inplace=True, allow_override=True)\n",
    "europa_craters.crs"
   ]
  },
  {
   "cell_type": "code",
   "execution_count": 24,
   "id": "215fd1b6-916d-45bd-acc0-c6717780f922",
   "metadata": {},
   "outputs": [
    {
     "data": {
      "text/plain": [
       "<AxesSubplot:>"
      ]
     },
     "execution_count": 24,
     "metadata": {},
     "output_type": "execute_result"
    },
    {
     "data": {
      "image/png": "[encoded data removed]",
      "text/plain": [
       "<Figure size 864x432 with 1 Axes>"
      ]
     },
     "metadata": {
      "needs_background": "light"
     },
     "output_type": "display_data"
    }
   ],
   "source": [
    "europa_craters.plot(figsize=(12, 6),c='red')"
   ]
  },
  {
   "cell_type": "markdown",
   "id": "66ebe000-745c-4759-bc15-d6181b1fb921",
   "metadata": {},
   "source": [
    "## Ganymede"
   ]
  },
  {
   "cell_type": "code",
   "execution_count": 25,
   "id": "7077fc34-7897-48e2-ae25-0a5b8d3d59fa",
   "metadata": {},
   "outputs": [
    {
     "data": {
      "text/html": [
       "<div>\n",
       "<style scoped>\n",
       "    .dataframe tbody tr th:only-of-type {\n",
       "        vertical-align: middle;\n",
       "    }\n",
       "\n",
       "    .dataframe tbody tr th {\n",
       "        vertical-align: top;\n",
       "    }\n",
       "\n",
       "    .dataframe thead th {\n",
       "        text-align: right;\n",
       "    }\n",
       "</style>\n",
       "<table border=\"1\" class=\"dataframe\">\n",
       "  <thead>\n",
       "    <tr style=\"text-align: right;\">\n",
       "      <th></th>\n",
       "      <th>Feature Name</th>\n",
       "      <th>Target</th>\n",
       "      <th>Diameter</th>\n",
       "      <th>Center Latitude</th>\n",
       "      <th>Center Longitude 360W+</th>\n",
       "      <th>Center Longitude 360E+</th>\n",
       "      <th>Center Longitude 180E+</th>\n",
       "      <th>Coordinate System</th>\n",
       "      <th>Approval Status</th>\n",
       "      <th>Approval Date</th>\n",
       "      <th>Origin</th>\n",
       "      <th>geometry</th>\n",
       "    </tr>\n",
       "  </thead>\n",
       "  <tbody>\n",
       "    <tr>\n",
       "      <th>0</th>\n",
       "      <td>Achelous</td>\n",
       "      <td>Ganymede</td>\n",
       "      <td>40.0</td>\n",
       "      <td>61.90</td>\n",
       "      <td>11.78</td>\n",
       "      <td>348.22</td>\n",
       "      <td>-11.78</td>\n",
       "      <td>Planetographic, +West, 0 - 360</td>\n",
       "      <td>Approved</td>\n",
       "      <td>1979</td>\n",
       "      <td>Greek river god; father of Callirrhoe, Ganymed...</td>\n",
       "      <td>POINT (-11.78000 61.90000)</td>\n",
       "    </tr>\n",
       "    <tr>\n",
       "      <th>1</th>\n",
       "      <td>Adad</td>\n",
       "      <td>Ganymede</td>\n",
       "      <td>39.0</td>\n",
       "      <td>57.43</td>\n",
       "      <td>358.02</td>\n",
       "      <td>1.98</td>\n",
       "      <td>1.98</td>\n",
       "      <td>Planetographic, +West, 0 - 360</td>\n",
       "      <td>Approved</td>\n",
       "      <td>1979</td>\n",
       "      <td>Assyro-Babylonian god of thunder.</td>\n",
       "      <td>POINT (1.98000 57.43000)</td>\n",
       "    </tr>\n",
       "    <tr>\n",
       "      <th>2</th>\n",
       "      <td>Adapa</td>\n",
       "      <td>Ganymede</td>\n",
       "      <td>57.0</td>\n",
       "      <td>73.08</td>\n",
       "      <td>31.32</td>\n",
       "      <td>328.68</td>\n",
       "      <td>-31.32</td>\n",
       "      <td>Planetographic, +West, 0 - 360</td>\n",
       "      <td>Approved</td>\n",
       "      <td>1979</td>\n",
       "      <td>Assyro-Babylonian; lost immortality when, at E...</td>\n",
       "      <td>POINT (-31.32000 73.08000)</td>\n",
       "    </tr>\n",
       "    <tr>\n",
       "      <th>3</th>\n",
       "      <td>Agreus</td>\n",
       "      <td>Ganymede</td>\n",
       "      <td>63.0</td>\n",
       "      <td>15.87</td>\n",
       "      <td>232.70</td>\n",
       "      <td>127.30</td>\n",
       "      <td>127.30</td>\n",
       "      <td>Planetographic, +West, 0 - 360</td>\n",
       "      <td>Approved</td>\n",
       "      <td>1985</td>\n",
       "      <td>Hunter god in Tyre.</td>\n",
       "      <td>POINT (127.30000 15.87000)</td>\n",
       "    </tr>\n",
       "    <tr>\n",
       "      <th>4</th>\n",
       "      <td>Agrotes</td>\n",
       "      <td>Ganymede</td>\n",
       "      <td>74.0</td>\n",
       "      <td>60.93</td>\n",
       "      <td>192.62</td>\n",
       "      <td>167.38</td>\n",
       "      <td>167.38</td>\n",
       "      <td>Planetographic, +West, 0 - 360</td>\n",
       "      <td>Approved</td>\n",
       "      <td>1985</td>\n",
       "      <td>Tyre; greatest god of Gebal; farmer god.</td>\n",
       "      <td>POINT (167.38000 60.93000)</td>\n",
       "    </tr>\n",
       "  </tbody>\n",
       "</table>\n",
       "</div>"
      ],
      "text/plain": [
       "  Feature Name    Target  Diameter  Center Latitude  Center Longitude 360W+  \\\n",
       "0     Achelous  Ganymede      40.0            61.90                   11.78   \n",
       "1         Adad  Ganymede      39.0            57.43                  358.02   \n",
       "2        Adapa  Ganymede      57.0            73.08                   31.32   \n",
       "3       Agreus  Ganymede      63.0            15.87                  232.70   \n",
       "4      Agrotes  Ganymede      74.0            60.93                  192.62   \n",
       "\n",
       "   Center Longitude 360E+  Center Longitude 180E+  \\\n",
       "0                  348.22                  -11.78   \n",
       "1                    1.98                    1.98   \n",
       "2                  328.68                  -31.32   \n",
       "3                  127.30                  127.30   \n",
       "4                  167.38                  167.38   \n",
       "\n",
       "                Coordinate System Approval Status Approval Date  \\\n",
       "0  Planetographic, +West, 0 - 360        Approved          1979   \n",
       "1  Planetographic, +West, 0 - 360        Approved          1979   \n",
       "2  Planetographic, +West, 0 - 360        Approved          1979   \n",
       "3  Planetographic, +West, 0 - 360        Approved          1985   \n",
       "4  Planetographic, +West, 0 - 360        Approved          1985   \n",
       "\n",
       "                                              Origin  \\\n",
       "0  Greek river god; father of Callirrhoe, Ganymed...   \n",
       "1                  Assyro-Babylonian god of thunder.   \n",
       "2  Assyro-Babylonian; lost immortality when, at E...   \n",
       "3                                Hunter god in Tyre.   \n",
       "4           Tyre; greatest god of Gebal; farmer god.   \n",
       "\n",
       "                     geometry  \n",
       "0  POINT (-11.78000 61.90000)  \n",
       "1    POINT (1.98000 57.43000)  \n",
       "2  POINT (-31.32000 73.08000)  \n",
       "3  POINT (127.30000 15.87000)  \n",
       "4  POINT (167.38000 60.93000)  "
      ]
     },
     "execution_count": 25,
     "metadata": {},
     "output_type": "execute_result"
    }
   ],
   "source": [
    "input = '../data/ganymede_craters.geojson'\n",
    "ganymede_craters=gpd.read_file(input)\n",
    "ganymede_craters.head()"
   ]
  },
  {
   "cell_type": "code",
   "execution_count": 26,
   "id": "134b3618-c6cb-4f9c-81dc-fe3f38634e85",
   "metadata": {},
   "outputs": [
    {
     "name": "stdout",
     "output_type": "stream",
     "text": [
      "+proj=latlong +R=2632345 +no_defs +type=crs\n"
     ]
    },
    {
     "data": {
      "text/plain": [
       "<Geographic 2D CRS: +proj=latlong +R=2632345 +no_defs +type=crs>\n",
       "Name: unknown\n",
       "Axis Info [ellipsoidal]:\n",
       "- lon[east]: Longitude (degree)\n",
       "- lat[north]: Latitude (degree)\n",
       "Area of Use:\n",
       "- undefined\n",
       "Datum: unknown\n",
       "- Ellipsoid: unknown\n",
       "- Prime Meridian: Reference meridian"
      ]
     },
     "execution_count": 26,
     "metadata": {},
     "output_type": "execute_result"
    }
   ],
   "source": [
    "# overwrite CRS\n",
    "print(CRS.from_proj4(str('+proj=latlong +R='+str(r_ganymede))+' +no_defs'))\n",
    "\n",
    "ganymede_craters.set_crs(CRS.from_proj4(str('+proj=latlong +R='+str(r_ganymede))+' +no_defs'), inplace=True, allow_override=True)\n",
    "ganymede_craters.crs"
   ]
  },
  {
   "cell_type": "code",
   "execution_count": 27,
   "id": "ee1ea71f-7634-4284-9220-7db4fc2400de",
   "metadata": {},
   "outputs": [
    {
     "data": {
      "text/plain": [
       "<AxesSubplot:>"
      ]
     },
     "execution_count": 27,
     "metadata": {},
     "output_type": "execute_result"
    },
    {
     "data": {
      "image/png": "[encoded data removed]",
      "text/plain": [
       "<Figure size 864x432 with 1 Axes>"
      ]
     },
     "metadata": {
      "needs_background": "light"
     },
     "output_type": "display_data"
    }
   ],
   "source": [
    "ganymede_craters.plot(figsize=(12, 6),c='red')"
   ]
  },
  {
   "cell_type": "markdown",
   "id": "16452e0a-26c2-4739-a5e5-8a82fad1f90b",
   "metadata": {},
   "source": [
    "### Other Ganymede crater databases\n",
    "\n",
    "* LPI Ganymede crater database (Schenk) - https://www.lpi.usra.edu/resources/gc/gchome.html"
   ]
  },
  {
   "cell_type": "markdown",
   "id": "8ac7feec-e82b-4b62-97e6-8ca3bc7e60f1",
   "metadata": {},
   "source": [
    "## Callisto"
   ]
  },
  {
   "cell_type": "code",
   "execution_count": 28,
   "id": "c42c7d9f-a70d-4f2a-8f20-0dc78781f8d4",
   "metadata": {},
   "outputs": [
    {
     "data": {
      "text/html": [
       "<div>\n",
       "<style scoped>\n",
       "    .dataframe tbody tr th:only-of-type {\n",
       "        vertical-align: middle;\n",
       "    }\n",
       "\n",
       "    .dataframe tbody tr th {\n",
       "        vertical-align: top;\n",
       "    }\n",
       "\n",
       "    .dataframe thead th {\n",
       "        text-align: right;\n",
       "    }\n",
       "</style>\n",
       "<table border=\"1\" class=\"dataframe\">\n",
       "  <thead>\n",
       "    <tr style=\"text-align: right;\">\n",
       "      <th></th>\n",
       "      <th>Feature Name</th>\n",
       "      <th>Target</th>\n",
       "      <th>Diameter</th>\n",
       "      <th>Center Latitude</th>\n",
       "      <th>Center Longitude 360W+</th>\n",
       "      <th>Center Longitude 360E+</th>\n",
       "      <th>Center Longitude 180E+</th>\n",
       "      <th>Coordinate System</th>\n",
       "      <th>Approval Status</th>\n",
       "      <th>Approval Date</th>\n",
       "      <th>Origin</th>\n",
       "      <th>geometry</th>\n",
       "    </tr>\n",
       "  </thead>\n",
       "  <tbody>\n",
       "    <tr>\n",
       "      <th>0</th>\n",
       "      <td>Adal</td>\n",
       "      <td>Callisto</td>\n",
       "      <td>41.7</td>\n",
       "      <td>75.5</td>\n",
       "      <td>79.7</td>\n",
       "      <td>280.3</td>\n",
       "      <td>-79.7</td>\n",
       "      <td>Planetographic, +West, 0 - 360</td>\n",
       "      <td>Approved</td>\n",
       "      <td>1979</td>\n",
       "      <td>Norse; son of Karl and Erna.</td>\n",
       "      <td>POINT (-79.70000 75.50000)</td>\n",
       "    </tr>\n",
       "    <tr>\n",
       "      <th>1</th>\n",
       "      <td>Adlinda</td>\n",
       "      <td>Callisto</td>\n",
       "      <td>840.0</td>\n",
       "      <td>-48.5</td>\n",
       "      <td>35.6</td>\n",
       "      <td>324.4</td>\n",
       "      <td>-35.6</td>\n",
       "      <td>Planetographic, +West, 0 - 360</td>\n",
       "      <td>Approved</td>\n",
       "      <td>1979</td>\n",
       "      <td>Eskimo; place in ocean depths where souls are ...</td>\n",
       "      <td>POINT (-35.60000 -48.50000)</td>\n",
       "    </tr>\n",
       "    <tr>\n",
       "      <th>2</th>\n",
       "      <td>Aegir</td>\n",
       "      <td>Callisto</td>\n",
       "      <td>53.9</td>\n",
       "      <td>-45.8</td>\n",
       "      <td>103.8</td>\n",
       "      <td>256.2</td>\n",
       "      <td>-103.8</td>\n",
       "      <td>Planetographic, +West, 0 - 360</td>\n",
       "      <td>Approved</td>\n",
       "      <td>1997</td>\n",
       "      <td>Norse sea god.</td>\n",
       "      <td>POINT (-103.80000 -45.80000)</td>\n",
       "    </tr>\n",
       "    <tr>\n",
       "      <th>3</th>\n",
       "      <td>Agloolik</td>\n",
       "      <td>Callisto</td>\n",
       "      <td>61.6</td>\n",
       "      <td>-47.7</td>\n",
       "      <td>82.4</td>\n",
       "      <td>277.6</td>\n",
       "      <td>-82.4</td>\n",
       "      <td>Planetographic, +West, 0 - 360</td>\n",
       "      <td>Approved</td>\n",
       "      <td>1997</td>\n",
       "      <td>Eskimo spirit of the seal caves.</td>\n",
       "      <td>POINT (-82.40000 -47.70000)</td>\n",
       "    </tr>\n",
       "    <tr>\n",
       "      <th>4</th>\n",
       "      <td>Ägröi</td>\n",
       "      <td>Callisto</td>\n",
       "      <td>67.4</td>\n",
       "      <td>43.2</td>\n",
       "      <td>10.9</td>\n",
       "      <td>349.1</td>\n",
       "      <td>-10.9</td>\n",
       "      <td>Planetographic, +West, 0 - 360</td>\n",
       "      <td>Approved</td>\n",
       "      <td>1979</td>\n",
       "      <td>Finno-Ugric god of twins.</td>\n",
       "      <td>POINT (-10.90000 43.20000)</td>\n",
       "    </tr>\n",
       "  </tbody>\n",
       "</table>\n",
       "</div>"
      ],
      "text/plain": [
       "  Feature Name    Target  Diameter  Center Latitude  Center Longitude 360W+  \\\n",
       "0         Adal  Callisto      41.7             75.5                    79.7   \n",
       "1      Adlinda  Callisto     840.0            -48.5                    35.6   \n",
       "2        Aegir  Callisto      53.9            -45.8                   103.8   \n",
       "3     Agloolik  Callisto      61.6            -47.7                    82.4   \n",
       "4        Ägröi  Callisto      67.4             43.2                    10.9   \n",
       "\n",
       "   Center Longitude 360E+  Center Longitude 180E+  \\\n",
       "0                   280.3                   -79.7   \n",
       "1                   324.4                   -35.6   \n",
       "2                   256.2                  -103.8   \n",
       "3                   277.6                   -82.4   \n",
       "4                   349.1                   -10.9   \n",
       "\n",
       "                Coordinate System Approval Status Approval Date  \\\n",
       "0  Planetographic, +West, 0 - 360        Approved          1979   \n",
       "1  Planetographic, +West, 0 - 360        Approved          1979   \n",
       "2  Planetographic, +West, 0 - 360        Approved          1997   \n",
       "3  Planetographic, +West, 0 - 360        Approved          1997   \n",
       "4  Planetographic, +West, 0 - 360        Approved          1979   \n",
       "\n",
       "                                              Origin  \\\n",
       "0                       Norse; son of Karl and Erna.   \n",
       "1  Eskimo; place in ocean depths where souls are ...   \n",
       "2                                     Norse sea god.   \n",
       "3                   Eskimo spirit of the seal caves.   \n",
       "4                          Finno-Ugric god of twins.   \n",
       "\n",
       "                       geometry  \n",
       "0    POINT (-79.70000 75.50000)  \n",
       "1   POINT (-35.60000 -48.50000)  \n",
       "2  POINT (-103.80000 -45.80000)  \n",
       "3   POINT (-82.40000 -47.70000)  \n",
       "4    POINT (-10.90000 43.20000)  "
      ]
     },
     "execution_count": 28,
     "metadata": {},
     "output_type": "execute_result"
    }
   ],
   "source": [
    "input = '../data/callisto_craters.geojson'\n",
    "callisto_craters=gpd.read_file(input)\n",
    "callisto_craters.head()"
   ]
  },
  {
   "cell_type": "code",
   "execution_count": 29,
   "id": "47a1b699-ba20-401b-af7e-43c4f25aaccd",
   "metadata": {},
   "outputs": [
    {
     "name": "stdout",
     "output_type": "stream",
     "text": [
      "+proj=latlong +R=2410300 +no_defs +type=crs\n"
     ]
    },
    {
     "data": {
      "text/plain": [
       "<Geographic 2D CRS: +proj=latlong +R=2410300 +no_defs +type=crs>\n",
       "Name: unknown\n",
       "Axis Info [ellipsoidal]:\n",
       "- lon[east]: Longitude (degree)\n",
       "- lat[north]: Latitude (degree)\n",
       "Area of Use:\n",
       "- undefined\n",
       "Datum: unknown\n",
       "- Ellipsoid: unknown\n",
       "- Prime Meridian: Reference meridian"
      ]
     },
     "execution_count": 29,
     "metadata": {},
     "output_type": "execute_result"
    }
   ],
   "source": [
    "# overwrite CRS\n",
    "print(CRS.from_proj4(str('+proj=latlong +R='+str(r_callisto))+' +no_defs'))\n",
    "\n",
    "callisto_craters.set_crs(CRS.from_proj4(str('+proj=latlong +R='+str(r_callisto))+' +no_defs'), inplace=True, allow_override=True)\n",
    "callisto_craters.crs"
   ]
  },
  {
   "cell_type": "code",
   "execution_count": 30,
   "id": "9b2254f2-7792-48e2-b512-36f723c684d9",
   "metadata": {},
   "outputs": [
    {
     "data": {
      "text/plain": [
       "<AxesSubplot:>"
      ]
     },
     "execution_count": 30,
     "metadata": {},
     "output_type": "execute_result"
    },
    {
     "data": {
      "image/png": "[encoded data removed]",
      "text/plain": [
       "<Figure size 864x432 with 1 Axes>"
      ]
     },
     "metadata": {
      "needs_background": "light"
     },
     "output_type": "display_data"
    }
   ],
   "source": [
    "callisto_craters.plot(figsize=(12, 6),c='red')"
   ]
  },
  {
   "cell_type": "markdown",
   "id": "beb3ce4b-1c3c-466d-9c3c-1b39772458be",
   "metadata": {},
   "source": [
    "### Other Callisto crater databases\n",
    "\n",
    "* LPI Callisto crater database (Schenk) - https://www.lpi.usra.edu/resources/cc/cchome.html"
   ]
  },
  {
   "cell_type": "markdown",
   "id": "3d109f13-c96f-483d-993c-4ebad54a2977",
   "metadata": {
    "tags": []
   },
   "source": [
    "## Titan\n",
    "\n",
    "The list below overestimates the number of craters. Typically craters have no attribute (see https://planetarynames.wr.usgs.gov/SearchResults?Target=74_Titan&Feature%20Type=9_Crater,%20craters)\n",
    "\n",
    "In the case of Titan (possible for other icy satellites, too), some features that have no attribute are not craters. The genuine crataers are just:\n",
    "\n",
    "* Afekan\n",
    "* Beag\n",
    "* Forseti\n",
    "* Hano\n",
    "* Ksa\n",
    "* Menrva\n",
    "* Momoy\n",
    "* Mystis\n",
    "* Selk\n",
    "* Sinlap\n",
    "\n",
    "see also https://planetarynames.wr.usgs.gov/SearchResults?Target=74_Titan&Feature%20Type=9_Crater,%20craters\n",
    "\n",
    "The list of attributes is:\n",
    "\n",
    "Arcus, Astrum, Catena, Cavus, Chaos, Chasma, Collis, Corona, Crater, Dorsum, Eruptive, Facula, Farrum, Flexus, Fluctus, Flumen, Fossa, Fretum, Insula, Labes, Labyrinthus, Lacuna, Lacus, Landing, Large, Linea, Lingula, Macula, Mare, Mensa, Mons, Oceanus, Palus, Patera, Planitia, Planum, Plume, Promontorium, Regio, Reticulum, Rima, Rupes, Satellite, Saxum, Scopulus, Serpens, Sinus, Sulcus, Terra, Tessera, Tholus, Unda, Vallis, Vastitas, Virga, arcūs, astra, catenae, cavi, chaoses, chasmata, colles, coronae, craters, dorsa, center, faculae, farra, flexūs, fluctūs, flumina, fossae, freta, insulae, labēs, labyrinthi, lacunae, lacūs, site, ringed, lineae, lingulae, maculae, maria, mensae, montes, oceani, paludes, paterae, planitiae, plana, plumes, promontoria, regiones, reticula, rimae, rupēs, Feature, saxa, scopuli, serpentes, sinūs, sulci, terrae, tesserae, tholi, undae, valles, vastitates, virgae"
   ]
  },
  {
   "cell_type": "code",
   "execution_count": 31,
   "id": "3a70d783-0b21-4dc4-ae75-862a7a41be3a",
   "metadata": {},
   "outputs": [
    {
     "data": {
      "text/html": [
       "<div>\n",
       "<style scoped>\n",
       "    .dataframe tbody tr th:only-of-type {\n",
       "        vertical-align: middle;\n",
       "    }\n",
       "\n",
       "    .dataframe tbody tr th {\n",
       "        vertical-align: top;\n",
       "    }\n",
       "\n",
       "    .dataframe thead th {\n",
       "        text-align: right;\n",
       "    }\n",
       "</style>\n",
       "<table border=\"1\" class=\"dataframe\">\n",
       "  <thead>\n",
       "    <tr style=\"text-align: right;\">\n",
       "      <th></th>\n",
       "      <th>Feature Name</th>\n",
       "      <th>Target</th>\n",
       "      <th>Diameter</th>\n",
       "      <th>Center Latitude</th>\n",
       "      <th>Center Longitude 360W+</th>\n",
       "      <th>Center Longitude 360E+</th>\n",
       "      <th>Center Longitude 180E+</th>\n",
       "      <th>Coordinate System</th>\n",
       "      <th>Approval Status</th>\n",
       "      <th>Approval Date</th>\n",
       "      <th>Origin</th>\n",
       "      <th>geometry</th>\n",
       "    </tr>\n",
       "  </thead>\n",
       "  <tbody>\n",
       "    <tr>\n",
       "      <th>0</th>\n",
       "      <td>Aaru</td>\n",
       "      <td>Titan</td>\n",
       "      <td>0.0</td>\n",
       "      <td>10.0</td>\n",
       "      <td>340.0</td>\n",
       "      <td>20.0</td>\n",
       "      <td>20.0</td>\n",
       "      <td>Planetographic, +West, 0 - 360</td>\n",
       "      <td>Approved</td>\n",
       "      <td>2006</td>\n",
       "      <td>Egyptian abode of the blessed dead.</td>\n",
       "      <td>POINT (20.00000 10.00000)</td>\n",
       "    </tr>\n",
       "    <tr>\n",
       "      <th>1</th>\n",
       "      <td>Adiri</td>\n",
       "      <td>Titan</td>\n",
       "      <td>0.0</td>\n",
       "      <td>-10.0</td>\n",
       "      <td>210.0</td>\n",
       "      <td>150.0</td>\n",
       "      <td>150.0</td>\n",
       "      <td>Planetographic, +West, 0 - 360</td>\n",
       "      <td>Approved</td>\n",
       "      <td>2006</td>\n",
       "      <td>Melanesian afterworld where life is easier tha...</td>\n",
       "      <td>POINT (150.00000 -10.00000)</td>\n",
       "    </tr>\n",
       "    <tr>\n",
       "      <th>2</th>\n",
       "      <td>Afekan</td>\n",
       "      <td>Titan</td>\n",
       "      <td>115.0</td>\n",
       "      <td>25.8</td>\n",
       "      <td>200.3</td>\n",
       "      <td>159.7</td>\n",
       "      <td>159.7</td>\n",
       "      <td>Planetographic, +West, 0 - 360</td>\n",
       "      <td>Approved</td>\n",
       "      <td>Aug 04, 2008</td>\n",
       "      <td>New Guinea goddess of creation and knowledge w...</td>\n",
       "      <td>POINT (159.70000 25.80000)</td>\n",
       "    </tr>\n",
       "    <tr>\n",
       "      <th>3</th>\n",
       "      <td>Aztlan</td>\n",
       "      <td>Titan</td>\n",
       "      <td>0.0</td>\n",
       "      <td>-10.0</td>\n",
       "      <td>20.0</td>\n",
       "      <td>340.0</td>\n",
       "      <td>-20.0</td>\n",
       "      <td>Planetographic, +West, 0 - 360</td>\n",
       "      <td>Approved</td>\n",
       "      <td>2006</td>\n",
       "      <td>Mythical land from which the Aztecs believed t...</td>\n",
       "      <td>POINT (-20.00000 -10.00000)</td>\n",
       "    </tr>\n",
       "  </tbody>\n",
       "</table>\n",
       "</div>"
      ],
      "text/plain": [
       "  Feature Name Target  Diameter  Center Latitude  Center Longitude 360W+  \\\n",
       "0         Aaru  Titan       0.0             10.0                   340.0   \n",
       "1        Adiri  Titan       0.0            -10.0                   210.0   \n",
       "2       Afekan  Titan     115.0             25.8                   200.3   \n",
       "3       Aztlan  Titan       0.0            -10.0                    20.0   \n",
       "\n",
       "   Center Longitude 360E+  Center Longitude 180E+  \\\n",
       "0                    20.0                    20.0   \n",
       "1                   150.0                   150.0   \n",
       "2                   159.7                   159.7   \n",
       "3                   340.0                   -20.0   \n",
       "\n",
       "                Coordinate System Approval Status Approval Date  \\\n",
       "0  Planetographic, +West, 0 - 360        Approved          2006   \n",
       "1  Planetographic, +West, 0 - 360        Approved          2006   \n",
       "2  Planetographic, +West, 0 - 360        Approved  Aug 04, 2008   \n",
       "3  Planetographic, +West, 0 - 360        Approved          2006   \n",
       "\n",
       "                                              Origin  \\\n",
       "0                Egyptian abode of the blessed dead.   \n",
       "1  Melanesian afterworld where life is easier tha...   \n",
       "2  New Guinea goddess of creation and knowledge w...   \n",
       "3  Mythical land from which the Aztecs believed t...   \n",
       "\n",
       "                      geometry  \n",
       "0    POINT (20.00000 10.00000)  \n",
       "1  POINT (150.00000 -10.00000)  \n",
       "2   POINT (159.70000 25.80000)  \n",
       "3  POINT (-20.00000 -10.00000)  "
      ]
     },
     "execution_count": 31,
     "metadata": {},
     "output_type": "execute_result"
    }
   ],
   "source": [
    "input = '../data/titan_craters.geojson'\n",
    "titan_craters=gpd.read_file(input)\n",
    "titan_craters.head(4)"
   ]
  },
  {
   "cell_type": "code",
   "execution_count": 32,
   "id": "5124689e-9d1a-4a33-bfa8-8f2c978d94fa",
   "metadata": {},
   "outputs": [
    {
     "name": "stdout",
     "output_type": "stream",
     "text": [
      "+proj=latlong +R=2575000 +no_defs +type=crs\n"
     ]
    },
    {
     "data": {
      "text/plain": [
       "<Geographic 2D CRS: +proj=latlong +R=2575000 +no_defs +type=crs>\n",
       "Name: unknown\n",
       "Axis Info [ellipsoidal]:\n",
       "- lon[east]: Longitude (degree)\n",
       "- lat[north]: Latitude (degree)\n",
       "Area of Use:\n",
       "- undefined\n",
       "Datum: unknown\n",
       "- Ellipsoid: unknown\n",
       "- Prime Meridian: Reference meridian"
      ]
     },
     "execution_count": 32,
     "metadata": {},
     "output_type": "execute_result"
    }
   ],
   "source": [
    "# overwrite CRS\n",
    "print(CRS.from_proj4(str('+proj=latlong +R='+str(r_titan))+' +no_defs'))\n",
    "\n",
    "titan_craters.set_crs(CRS.from_proj4(str('+proj=latlong +R='+str(r_titan))+' +no_defs'), inplace=True, allow_override=True)\n",
    "titan_craters.crs"
   ]
  },
  {
   "cell_type": "code",
   "execution_count": 33,
   "id": "99bd58db-e21c-4e5b-b503-d77cff417630",
   "metadata": {},
   "outputs": [
    {
     "data": {
      "text/plain": [
       "<AxesSubplot:>"
      ]
     },
     "execution_count": 33,
     "metadata": {},
     "output_type": "execute_result"
    },
    {
     "data": {
      "image/png": "[encoded data removed]",
      "text/plain": [
       "<Figure size 864x432 with 1 Axes>"
      ]
     },
     "metadata": {
      "needs_background": "light"
     },
     "output_type": "display_data"
    }
   ],
   "source": [
    "titan_craters.plot(figsize=(12, 6),c='red')"
   ]
  },
  {
   "cell_type": "markdown",
   "id": "03bc8c58-c823-4f55-973e-bae4a689cb7a",
   "metadata": {},
   "source": [
    "### Other Titan crater databases\n",
    "\n",
    "* Database of Titan craters after Hedgepeth et al. (2020)"
   ]
  },
  {
   "cell_type": "code",
   "execution_count": 34,
   "id": "0cddb73b-238e-4447-8657-3b2101424c73",
   "metadata": {},
   "outputs": [],
   "source": [
    "import pandas as pd \n",
    "input = '../data/titan_craters_hedgepeth.csv'\n",
    "titan_craters_hedgepeth=pd.read_csv(input, sep=';')\n",
    "\n",
    "# remove white spaces in names.....\n",
    "titan_craters_hedgepeth.columns = titan_craters_hedgepeth.columns.str.replace(' ', '')\n",
    "\n",
    "# rename longitude\n",
    "titan_craters_hedgepeth.rename(columns={'Longitude' : 'Longitude 360W+'}, inplace=True)\\\n",
    "\n",
    "# change dtypes\n",
    "titan_craters_hedgepeth[titan_craters_hedgepeth.columns[2:4]] = titan_craters_hedgepeth.iloc[:, 2:4].astype('float')\n",
    "\n",
    "# add other longitudes\n",
    "titan_craters_hedgepeth['Longitude 360E+'] = (360 - titan_craters_hedgepeth['Longitude 360W+']).round(decimals=2)\n",
    "titan_craters_hedgepeth['Longitude 180E+'] = titan_craters_hedgepeth['Longitude 360E+'].where(titan_craters_hedgepeth['Longitude 360E+'] < 180, titan_craters_hedgepeth['Longitude 360E+']-360.0)\n",
    "\n",
    "# # rearrange order for ease \n",
    "titan_craters_hedgepeth = titan_craters_hedgepeth[['ID', 'CraterName', \n",
    "                                                   'Longitude 360W+', 'Longitude 360E+', 'Longitude 180E+', \n",
    "                                                   'Latitude', 'Diameter(km)', 'Certainty', 'RADARSwath']]\n",
    "\n",
    "# create geodataframe\n",
    "craters_titan_hedgepeth_gdf = gpd.GeoDataFrame(\n",
    "    titan_craters_hedgepeth, geometry=gpd.points_from_xy(titan_craters_hedgepeth['Longitude 180E+'], titan_craters_hedgepeth['Latitude']))"
   ]
  },
  {
   "cell_type": "code",
   "execution_count": 35,
   "id": "930b37c7-a63a-4b29-b1c9-3b26c5d40fac",
   "metadata": {},
   "outputs": [
    {
     "name": "stdout",
     "output_type": "stream",
     "text": [
      "ID\n",
      "CraterName\n",
      "Longitude 360W+\n",
      "Longitude 360E+\n",
      "Longitude 180E+\n",
      "Latitude\n",
      "Diameter(km)\n",
      "Certainty\n",
      "RADARSwath\n",
      "geometry\n"
     ]
    }
   ],
   "source": [
    "for columns in titan_craters_hedgepeth:\n",
    "    print(columns)"
   ]
  },
  {
   "cell_type": "code",
   "execution_count": 36,
   "id": "948481ba-46df-42cc-9bb5-dae839d8c9b5",
   "metadata": {},
   "outputs": [
    {
     "data": {
      "text/plain": [
       "ID                   object\n",
       "CraterName           object\n",
       "Longitude 360W+     float64\n",
       "Longitude 360E+     float64\n",
       "Longitude 180E+     float64\n",
       "Latitude            float64\n",
       "Diameter(km)        float64\n",
       "Certainty             int64\n",
       "RADARSwath           object\n",
       "geometry           geometry\n",
       "dtype: object"
      ]
     },
     "execution_count": 36,
     "metadata": {},
     "output_type": "execute_result"
    }
   ],
   "source": [
    "titan_craters_hedgepeth.dtypes"
   ]
  },
  {
   "cell_type": "code",
   "execution_count": 37,
   "id": "e1794506-012f-4bff-9b4b-d86a42ac349b",
   "metadata": {},
   "outputs": [
    {
     "data": {
      "text/html": [
       "<div>\n",
       "<style scoped>\n",
       "    .dataframe tbody tr th:only-of-type {\n",
       "        vertical-align: middle;\n",
       "    }\n",
       "\n",
       "    .dataframe tbody tr th {\n",
       "        vertical-align: top;\n",
       "    }\n",
       "\n",
       "    .dataframe thead th {\n",
       "        text-align: right;\n",
       "    }\n",
       "</style>\n",
       "<table border=\"1\" class=\"dataframe\">\n",
       "  <thead>\n",
       "    <tr style=\"text-align: right;\">\n",
       "      <th></th>\n",
       "      <th>ID</th>\n",
       "      <th>CraterName</th>\n",
       "      <th>Longitude 360W+</th>\n",
       "      <th>Longitude 360E+</th>\n",
       "      <th>Longitude 180E+</th>\n",
       "      <th>Latitude</th>\n",
       "      <th>Diameter(km)</th>\n",
       "      <th>Certainty</th>\n",
       "      <th>RADARSwath</th>\n",
       "      <th>geometry</th>\n",
       "    </tr>\n",
       "  </thead>\n",
       "  <tbody>\n",
       "    <tr>\n",
       "      <th>2</th>\n",
       "      <td>3*</td>\n",
       "      <td>Afekan</td>\n",
       "      <td>200.27</td>\n",
       "      <td>159.73</td>\n",
       "      <td>159.73</td>\n",
       "      <td>26.00</td>\n",
       "      <td>115.0</td>\n",
       "      <td>1</td>\n",
       "      <td>T043, T083</td>\n",
       "      <td>POINT (159.73000 26.00000)</td>\n",
       "    </tr>\n",
       "    <tr>\n",
       "      <th>1</th>\n",
       "      <td>2*</td>\n",
       "      <td>Forseti</td>\n",
       "      <td>10.74</td>\n",
       "      <td>349.26</td>\n",
       "      <td>-10.74</td>\n",
       "      <td>25.76</td>\n",
       "      <td>140.0</td>\n",
       "      <td>1</td>\n",
       "      <td>T023, T113</td>\n",
       "      <td>POINT (-10.74000 25.76000)</td>\n",
       "    </tr>\n",
       "    <tr>\n",
       "      <th>4</th>\n",
       "      <td>5*</td>\n",
       "      <td>Hano</td>\n",
       "      <td>344.98</td>\n",
       "      <td>15.02</td>\n",
       "      <td>15.02</td>\n",
       "      <td>40.51</td>\n",
       "      <td>105.0</td>\n",
       "      <td>1</td>\n",
       "      <td>T016, T084, T104</td>\n",
       "      <td>POINT (15.02000 40.51000)</td>\n",
       "    </tr>\n",
       "    <tr>\n",
       "      <th>0</th>\n",
       "      <td>1*</td>\n",
       "      <td>Menrva</td>\n",
       "      <td>86.97</td>\n",
       "      <td>273.03</td>\n",
       "      <td>-86.97</td>\n",
       "      <td>19.98</td>\n",
       "      <td>400.0</td>\n",
       "      <td>1</td>\n",
       "      <td>T003, T077, T108</td>\n",
       "      <td>POINT (-86.97000 19.98000)</td>\n",
       "    </tr>\n",
       "    <tr>\n",
       "      <th>3</th>\n",
       "      <td>4</td>\n",
       "      <td>Paxsi</td>\n",
       "      <td>341.53</td>\n",
       "      <td>18.47</td>\n",
       "      <td>18.47</td>\n",
       "      <td>5.51</td>\n",
       "      <td>115.0</td>\n",
       "      <td>2</td>\n",
       "      <td>T104</td>\n",
       "      <td>POINT (18.47000 5.51000)</td>\n",
       "    </tr>\n",
       "  </tbody>\n",
       "</table>\n",
       "</div>"
      ],
      "text/plain": [
       "   ID CraterName  Longitude 360W+  Longitude 360E+  Longitude 180E+  Latitude  \\\n",
       "2  3*     Afekan           200.27           159.73           159.73     26.00   \n",
       "1  2*    Forseti            10.74           349.26           -10.74     25.76   \n",
       "4  5*       Hano           344.98            15.02            15.02     40.51   \n",
       "0  1*     Menrva            86.97           273.03           -86.97     19.98   \n",
       "3   4      Paxsi           341.53            18.47            18.47      5.51   \n",
       "\n",
       "   Diameter(km)  Certainty        RADARSwath                    geometry  \n",
       "2         115.0          1        T043, T083  POINT (159.73000 26.00000)  \n",
       "1         140.0          1        T023, T113  POINT (-10.74000 25.76000)  \n",
       "4         105.0          1  T016, T084, T104   POINT (15.02000 40.51000)  \n",
       "0         400.0          1  T003, T077, T108  POINT (-86.97000 19.98000)  \n",
       "3         115.0          2              T104    POINT (18.47000 5.51000)  "
      ]
     },
     "execution_count": 37,
     "metadata": {},
     "output_type": "execute_result"
    }
   ],
   "source": [
    "pd.set_option('display.max_rows', 100)\n",
    "\n",
    "titan_craters_hedgepeth.head(5).sort_values(by='CraterName')"
   ]
  },
  {
   "cell_type": "code",
   "execution_count": 38,
   "id": "2b0d2622-1fc8-4da1-98b3-296c28e9bc13",
   "metadata": {},
   "outputs": [
    {
     "data": {
      "text/html": [
       "<div>\n",
       "<style scoped>\n",
       "    .dataframe tbody tr th:only-of-type {\n",
       "        vertical-align: middle;\n",
       "    }\n",
       "\n",
       "    .dataframe tbody tr th {\n",
       "        vertical-align: top;\n",
       "    }\n",
       "\n",
       "    .dataframe thead th {\n",
       "        text-align: right;\n",
       "    }\n",
       "</style>\n",
       "<table border=\"1\" class=\"dataframe\">\n",
       "  <thead>\n",
       "    <tr style=\"text-align: right;\">\n",
       "      <th></th>\n",
       "      <th>Feature Name</th>\n",
       "      <th>Target</th>\n",
       "      <th>Diameter</th>\n",
       "      <th>Center Latitude</th>\n",
       "      <th>Center Longitude 360W+</th>\n",
       "      <th>Center Longitude 360E+</th>\n",
       "      <th>Center Longitude 180E+</th>\n",
       "      <th>Coordinate System</th>\n",
       "      <th>Approval Status</th>\n",
       "      <th>Approval Date</th>\n",
       "      <th>Origin</th>\n",
       "      <th>geometry</th>\n",
       "    </tr>\n",
       "  </thead>\n",
       "  <tbody>\n",
       "    <tr>\n",
       "      <th>13</th>\n",
       "      <td>Menrva</td>\n",
       "      <td>Titan</td>\n",
       "      <td>392.0</td>\n",
       "      <td>20.1</td>\n",
       "      <td>87.2</td>\n",
       "      <td>272.8</td>\n",
       "      <td>-87.2</td>\n",
       "      <td>Planetographic, +West, 0 - 360</td>\n",
       "      <td>Approved</td>\n",
       "      <td>2006</td>\n",
       "      <td>Etruscan goddess of wisdom.</td>\n",
       "      <td>POINT (-87.20000 20.10000)</td>\n",
       "    </tr>\n",
       "  </tbody>\n",
       "</table>\n",
       "</div>"
      ],
      "text/plain": [
       "   Feature Name Target  Diameter  Center Latitude  Center Longitude 360W+  \\\n",
       "13       Menrva  Titan     392.0             20.1                    87.2   \n",
       "\n",
       "    Center Longitude 360E+  Center Longitude 180E+  \\\n",
       "13                   272.8                   -87.2   \n",
       "\n",
       "                 Coordinate System Approval Status Approval Date  \\\n",
       "13  Planetographic, +West, 0 - 360        Approved          2006   \n",
       "\n",
       "                         Origin                    geometry  \n",
       "13  Etruscan goddess of wisdom.  POINT (-87.20000 20.10000)  "
      ]
     },
     "execution_count": 38,
     "metadata": {},
     "output_type": "execute_result"
    }
   ],
   "source": [
    "# check on both databases \n",
    "\n",
    "# please note query with column name that has a space requires ` not ' (!)\n",
    "check_usgs = titan_craters.query(\"`Feature Name` == 'Menrva'\")\n",
    "check_usgs"
   ]
  },
  {
   "cell_type": "code",
   "execution_count": 39,
   "id": "7e107c46-f88a-4753-bab4-3a2981ea8150",
   "metadata": {},
   "outputs": [
    {
     "data": {
      "text/html": [
       "<div>\n",
       "<style scoped>\n",
       "    .dataframe tbody tr th:only-of-type {\n",
       "        vertical-align: middle;\n",
       "    }\n",
       "\n",
       "    .dataframe tbody tr th {\n",
       "        vertical-align: top;\n",
       "    }\n",
       "\n",
       "    .dataframe thead th {\n",
       "        text-align: right;\n",
       "    }\n",
       "</style>\n",
       "<table border=\"1\" class=\"dataframe\">\n",
       "  <thead>\n",
       "    <tr style=\"text-align: right;\">\n",
       "      <th></th>\n",
       "      <th>ID</th>\n",
       "      <th>CraterName</th>\n",
       "      <th>Longitude 360W+</th>\n",
       "      <th>Longitude 360E+</th>\n",
       "      <th>Longitude 180E+</th>\n",
       "      <th>Latitude</th>\n",
       "      <th>Diameter(km)</th>\n",
       "      <th>Certainty</th>\n",
       "      <th>RADARSwath</th>\n",
       "      <th>geometry</th>\n",
       "    </tr>\n",
       "  </thead>\n",
       "  <tbody>\n",
       "    <tr>\n",
       "      <th>0</th>\n",
       "      <td>1*</td>\n",
       "      <td>Menrva</td>\n",
       "      <td>86.97</td>\n",
       "      <td>273.03</td>\n",
       "      <td>-86.97</td>\n",
       "      <td>19.98</td>\n",
       "      <td>400.0</td>\n",
       "      <td>1</td>\n",
       "      <td>T003, T077, T108</td>\n",
       "      <td>POINT (-86.97000 19.98000)</td>\n",
       "    </tr>\n",
       "  </tbody>\n",
       "</table>\n",
       "</div>"
      ],
      "text/plain": [
       "   ID CraterName  Longitude 360W+  Longitude 360E+  Longitude 180E+  Latitude  \\\n",
       "0  1*     Menrva            86.97           273.03           -86.97     19.98   \n",
       "\n",
       "   Diameter(km)  Certainty        RADARSwath                    geometry  \n",
       "0         400.0          1  T003, T077, T108  POINT (-86.97000 19.98000)  "
      ]
     },
     "execution_count": 39,
     "metadata": {},
     "output_type": "execute_result"
    }
   ],
   "source": [
    "check_hedgepeth = titan_craters_hedgepeth.query(\"CraterName == 'Menrva'\")\n",
    "check_hedgepeth"
   ]
  },
  {
   "cell_type": "markdown",
   "id": "128ebbfd-fb9b-45c6-bad1-36c4d7e012c1",
   "metadata": {},
   "source": [
    "see also: https://pubs.giss.nasa.gov/abs/lo08000d.html\n",
    "\n",
    "Lorenz et al. 2008\n",
    "Lorenz, R.D., B.W. Stiles, R.L. Kirk, M.D. Allison, P. Persi del Marmo, L. Iess, J.I. Lunine, S.J. Ostro, and S. Hensley, 2008: Titan's rotation reveals an internal ocean and changing zonal winds. Science, 319, 1649-1651, doi:10.1126/science.1151639.\n",
    "\n",
    "_Cassini radar observations of Saturn's moon Titan over several years show that its rotational period is changing and is different from its orbital period. The present-day rotation period difference from synchronous spin leads to a shift of ∼0.36° per year in apparent longitude and is consistent with seasonal exchange of angular momentum between the surface and Titan's dense superrotating atmosphere, but only if Titan's crust is decoupled from the core by an internal water ocean like that on Europa._\n"
   ]
  },
  {
   "cell_type": "markdown",
   "id": "e8f79cba-af43-43a7-aa0d-ca3cc4382db3",
   "metadata": {},
   "source": [
    "Regardless, in order to account for the overestimation of craters derived by exclusion from the nomenclature, one can get out of the Titan nomenclature excerpt just:\n",
    "    \n",
    "* Afekan\n",
    "* Beag\n",
    "* Forseti\n",
    "* Hano\n",
    "* Ksa\n",
    "* Menrva\n",
    "* Momoy\n",
    "* Mystis\n",
    "* Selk\n",
    "* Sinlap\n"
   ]
  },
  {
   "cell_type": "code",
   "execution_count": 40,
   "id": "7b8ab5ec-aae9-4b1a-b909-81e8168fe800",
   "metadata": {},
   "outputs": [
    {
     "data": {
      "text/html": [
       "<div>\n",
       "<style scoped>\n",
       "    .dataframe tbody tr th:only-of-type {\n",
       "        vertical-align: middle;\n",
       "    }\n",
       "\n",
       "    .dataframe tbody tr th {\n",
       "        vertical-align: top;\n",
       "    }\n",
       "\n",
       "    .dataframe thead th {\n",
       "        text-align: right;\n",
       "    }\n",
       "</style>\n",
       "<table border=\"1\" class=\"dataframe\">\n",
       "  <thead>\n",
       "    <tr style=\"text-align: right;\">\n",
       "      <th></th>\n",
       "      <th>Feature Name</th>\n",
       "      <th>Target</th>\n",
       "      <th>Diameter</th>\n",
       "      <th>Center Latitude</th>\n",
       "      <th>Center Longitude 360W+</th>\n",
       "      <th>Center Longitude 360E+</th>\n",
       "      <th>Center Longitude 180E+</th>\n",
       "      <th>Coordinate System</th>\n",
       "      <th>Approval Status</th>\n",
       "      <th>Approval Date</th>\n",
       "      <th>Origin</th>\n",
       "      <th>geometry</th>\n",
       "    </tr>\n",
       "  </thead>\n",
       "  <tbody>\n",
       "    <tr>\n",
       "      <th>2</th>\n",
       "      <td>Afekan</td>\n",
       "      <td>Titan</td>\n",
       "      <td>115.0</td>\n",
       "      <td>25.80</td>\n",
       "      <td>200.30</td>\n",
       "      <td>159.70</td>\n",
       "      <td>159.70</td>\n",
       "      <td>Planetographic, +West, 0 - 360</td>\n",
       "      <td>Approved</td>\n",
       "      <td>Aug 04, 2008</td>\n",
       "      <td>New Guinea goddess of creation and knowledge w...</td>\n",
       "      <td>POINT (159.70000 25.80000)</td>\n",
       "    </tr>\n",
       "    <tr>\n",
       "      <th>4</th>\n",
       "      <td>Beag</td>\n",
       "      <td>Titan</td>\n",
       "      <td>27.0</td>\n",
       "      <td>-34.74</td>\n",
       "      <td>169.55</td>\n",
       "      <td>190.45</td>\n",
       "      <td>-169.55</td>\n",
       "      <td>Planetographic, +West, 0 - 360</td>\n",
       "      <td>Approved</td>\n",
       "      <td>Apr 15, 2015</td>\n",
       "      <td>Celtic/Irish goddess of water, education, and ...</td>\n",
       "      <td>POINT (-169.55000 -34.74000)</td>\n",
       "    </tr>\n",
       "    <tr>\n",
       "      <th>9</th>\n",
       "      <td>Forseti</td>\n",
       "      <td>Titan</td>\n",
       "      <td>145.0</td>\n",
       "      <td>25.53</td>\n",
       "      <td>10.40</td>\n",
       "      <td>349.60</td>\n",
       "      <td>-10.40</td>\n",
       "      <td>Planetographic, +West, 0 - 360</td>\n",
       "      <td>Approved</td>\n",
       "      <td>Apr 15, 2015</td>\n",
       "      <td>Norse god, the wisest and most eloquent of the...</td>\n",
       "      <td>POINT (-10.40000 25.53000)</td>\n",
       "    </tr>\n",
       "    <tr>\n",
       "      <th>11</th>\n",
       "      <td>Hano</td>\n",
       "      <td>Titan</td>\n",
       "      <td>100.0</td>\n",
       "      <td>40.30</td>\n",
       "      <td>345.10</td>\n",
       "      <td>14.90</td>\n",
       "      <td>14.90</td>\n",
       "      <td>Planetographic, +West, 0 - 360</td>\n",
       "      <td>Approved</td>\n",
       "      <td>Dec 23, 2011</td>\n",
       "      <td>Bella Coola (northwestern USA and western Cana...</td>\n",
       "      <td>POINT (14.90000 40.30000)</td>\n",
       "    </tr>\n",
       "    <tr>\n",
       "      <th>12</th>\n",
       "      <td>Ksa</td>\n",
       "      <td>Titan</td>\n",
       "      <td>29.0</td>\n",
       "      <td>14.00</td>\n",
       "      <td>65.40</td>\n",
       "      <td>294.60</td>\n",
       "      <td>-65.40</td>\n",
       "      <td>Planetographic, +West, 0 - 360</td>\n",
       "      <td>Approved</td>\n",
       "      <td>Oct 11, 2006</td>\n",
       "      <td>Lakota and Oglala (South Dakota, USA) god of w...</td>\n",
       "      <td>POINT (-65.40000 14.00000)</td>\n",
       "    </tr>\n",
       "    <tr>\n",
       "      <th>13</th>\n",
       "      <td>Menrva</td>\n",
       "      <td>Titan</td>\n",
       "      <td>392.0</td>\n",
       "      <td>20.10</td>\n",
       "      <td>87.20</td>\n",
       "      <td>272.80</td>\n",
       "      <td>-87.20</td>\n",
       "      <td>Planetographic, +West, 0 - 360</td>\n",
       "      <td>Approved</td>\n",
       "      <td>2006</td>\n",
       "      <td>Etruscan goddess of wisdom.</td>\n",
       "      <td>POINT (-87.20000 20.10000)</td>\n",
       "    </tr>\n",
       "    <tr>\n",
       "      <th>15</th>\n",
       "      <td>Momoy</td>\n",
       "      <td>Titan</td>\n",
       "      <td>40.0</td>\n",
       "      <td>11.60</td>\n",
       "      <td>44.60</td>\n",
       "      <td>315.40</td>\n",
       "      <td>-44.60</td>\n",
       "      <td>Planetographic, +West, 0 - 360</td>\n",
       "      <td>Approved</td>\n",
       "      <td>Dec 23, 2011</td>\n",
       "      <td>Chumash (California, USA) ancestor shaman and ...</td>\n",
       "      <td>POINT (-44.60000 11.60000)</td>\n",
       "    </tr>\n",
       "    <tr>\n",
       "      <th>16</th>\n",
       "      <td>Mystis</td>\n",
       "      <td>Titan</td>\n",
       "      <td>20.0</td>\n",
       "      <td>0.07</td>\n",
       "      <td>194.86</td>\n",
       "      <td>165.14</td>\n",
       "      <td>165.14</td>\n",
       "      <td>Planetographic, +West, 0 - 360</td>\n",
       "      <td>Approved</td>\n",
       "      <td>Jul 20, 2015</td>\n",
       "      <td>Greek nymph, a minor deity, nurse of the god D...</td>\n",
       "      <td>POINT (165.14000 0.07000)</td>\n",
       "    </tr>\n",
       "    <tr>\n",
       "      <th>20</th>\n",
       "      <td>Selk</td>\n",
       "      <td>Titan</td>\n",
       "      <td>80.0</td>\n",
       "      <td>7.00</td>\n",
       "      <td>199.00</td>\n",
       "      <td>161.00</td>\n",
       "      <td>161.00</td>\n",
       "      <td>Planetographic, +West, 0 - 360</td>\n",
       "      <td>Approved</td>\n",
       "      <td>Feb 15, 2008</td>\n",
       "      <td>Egyptian goddess of knowledge, writing, educat...</td>\n",
       "      <td>POINT (161.00000 7.00000)</td>\n",
       "    </tr>\n",
       "    <tr>\n",
       "      <th>23</th>\n",
       "      <td>Sinlap</td>\n",
       "      <td>Titan</td>\n",
       "      <td>80.0</td>\n",
       "      <td>11.30</td>\n",
       "      <td>16.00</td>\n",
       "      <td>344.00</td>\n",
       "      <td>-16.00</td>\n",
       "      <td>Planetographic, +West, 0 - 360</td>\n",
       "      <td>Approved</td>\n",
       "      <td>2006</td>\n",
       "      <td>Kachin (N. Burma) wise spirit who dwells in th...</td>\n",
       "      <td>POINT (-16.00000 11.30000)</td>\n",
       "    </tr>\n",
       "  </tbody>\n",
       "</table>\n",
       "</div>"
      ],
      "text/plain": [
       "   Feature Name Target  Diameter  Center Latitude  Center Longitude 360W+  \\\n",
       "2        Afekan  Titan     115.0            25.80                  200.30   \n",
       "4          Beag  Titan      27.0           -34.74                  169.55   \n",
       "9       Forseti  Titan     145.0            25.53                   10.40   \n",
       "11         Hano  Titan     100.0            40.30                  345.10   \n",
       "12          Ksa  Titan      29.0            14.00                   65.40   \n",
       "13       Menrva  Titan     392.0            20.10                   87.20   \n",
       "15        Momoy  Titan      40.0            11.60                   44.60   \n",
       "16       Mystis  Titan      20.0             0.07                  194.86   \n",
       "20         Selk  Titan      80.0             7.00                  199.00   \n",
       "23       Sinlap  Titan      80.0            11.30                   16.00   \n",
       "\n",
       "    Center Longitude 360E+  Center Longitude 180E+  \\\n",
       "2                   159.70                  159.70   \n",
       "4                   190.45                 -169.55   \n",
       "9                   349.60                  -10.40   \n",
       "11                   14.90                   14.90   \n",
       "12                  294.60                  -65.40   \n",
       "13                  272.80                  -87.20   \n",
       "15                  315.40                  -44.60   \n",
       "16                  165.14                  165.14   \n",
       "20                  161.00                  161.00   \n",
       "23                  344.00                  -16.00   \n",
       "\n",
       "                 Coordinate System Approval Status Approval Date  \\\n",
       "2   Planetographic, +West, 0 - 360        Approved  Aug 04, 2008   \n",
       "4   Planetographic, +West, 0 - 360        Approved  Apr 15, 2015   \n",
       "9   Planetographic, +West, 0 - 360        Approved  Apr 15, 2015   \n",
       "11  Planetographic, +West, 0 - 360        Approved  Dec 23, 2011   \n",
       "12  Planetographic, +West, 0 - 360        Approved  Oct 11, 2006   \n",
       "13  Planetographic, +West, 0 - 360        Approved          2006   \n",
       "15  Planetographic, +West, 0 - 360        Approved  Dec 23, 2011   \n",
       "16  Planetographic, +West, 0 - 360        Approved  Jul 20, 2015   \n",
       "20  Planetographic, +West, 0 - 360        Approved  Feb 15, 2008   \n",
       "23  Planetographic, +West, 0 - 360        Approved          2006   \n",
       "\n",
       "                                               Origin  \\\n",
       "2   New Guinea goddess of creation and knowledge w...   \n",
       "4   Celtic/Irish goddess of water, education, and ...   \n",
       "9   Norse god, the wisest and most eloquent of the...   \n",
       "11  Bella Coola (northwestern USA and western Cana...   \n",
       "12  Lakota and Oglala (South Dakota, USA) god of w...   \n",
       "13                        Etruscan goddess of wisdom.   \n",
       "15  Chumash (California, USA) ancestor shaman and ...   \n",
       "16  Greek nymph, a minor deity, nurse of the god D...   \n",
       "20  Egyptian goddess of knowledge, writing, educat...   \n",
       "23  Kachin (N. Burma) wise spirit who dwells in th...   \n",
       "\n",
       "                        geometry  \n",
       "2     POINT (159.70000 25.80000)  \n",
       "4   POINT (-169.55000 -34.74000)  \n",
       "9     POINT (-10.40000 25.53000)  \n",
       "11     POINT (14.90000 40.30000)  \n",
       "12    POINT (-65.40000 14.00000)  \n",
       "13    POINT (-87.20000 20.10000)  \n",
       "15    POINT (-44.60000 11.60000)  \n",
       "16     POINT (165.14000 0.07000)  \n",
       "20     POINT (161.00000 7.00000)  \n",
       "23    POINT (-16.00000 11.30000)  "
      ]
     },
     "execution_count": 40,
     "metadata": {},
     "output_type": "execute_result"
    }
   ],
   "source": [
    "# see https://planetarynames.wr.usgs.gov/SearchResults?Target=74_Titan&Feature%20Type=9_Crater,%20craters\n",
    "\n",
    "genuine_titan_craterlist = ['Afekan','Beag','Forseti','Hano','Ksa','Menrva','Momoy','Mystis','Selk','Sinlap']\n",
    "\n",
    "titan_genuine_craters = titan_craters.query(\"`Feature Name` == @genuine_titan_craterlist\")\n",
    "titan_genuine_craters"
   ]
  },
  {
   "cell_type": "code",
   "execution_count": 41,
   "id": "37611f56-e9d2-453f-813f-7bb93cb4b828",
   "metadata": {},
   "outputs": [
    {
     "data": {
      "image/png": "[encoded data removed]",
      "text/plain": [
       "<Figure size 864x720 with 2 Axes>"
      ]
     },
     "metadata": {
      "needs_background": "light"
     },
     "output_type": "display_data"
    }
   ],
   "source": [
    "# Plot teh above and the craters of nomenclature\n",
    "fig, axs = plt.subplots(2, figsize=(12,10))\n",
    "fig.suptitle('Craters from gazetteer (red) vs. Hedgepeth (2020) craters (blue)')\n",
    "\n",
    "axs[0].scatter(craters_titan_hedgepeth_gdf['Longitude 360W+'], craters_titan_hedgepeth_gdf['Latitude'], c='blue')\n",
    "axs[0].set_xlim(0,360)\n",
    "axs[0].set_ylim(-90,90)\n",
    "axs[0].invert_xaxis()\n",
    "\n",
    "axs[1].scatter(titan_genuine_craters['Center Longitude 360W+'], titan_genuine_craters['Center Latitude'], c='red')\n",
    "axs[1].set_xlim(0,360)\n",
    "axs[1].set_ylim(-90,90)\n",
    "axs[1].invert_xaxis()\n",
    "\n"
   ]
  },
  {
   "cell_type": "code",
   "execution_count": 42,
   "id": "ef5b9b39-16a9-4905-80d3-da5d4ca63430",
   "metadata": {},
   "outputs": [],
   "source": [
    "# save to geojson\n",
    "craters_titan_hedgepeth_gdf.to_file('../data/titan_craters_hedgepeth.geojson', driver=\"GeoJSON\")"
   ]
  },
  {
   "cell_type": "markdown",
   "id": "f5ab9cfc-4e10-4726-80d7-13a99697c0a8",
   "metadata": {},
   "source": [
    "## References\n",
    "\n",
    "Hedgepeth, J. E., Neish, C. D., Turtle, E. P., Stiles, B. W., Kirk, R., & Lorenz, R. D. (2020). Titan's impact crater population after Cassini. Icarus, 344, 113664 - https://doi.org/10.1016/j.icarus.2020.113664\n",
    "\n",
    "Kenkmann, T. (2021). The terrestrial impact crater record: A statistical analysis of morphologies, structures, ages, lithologies, and more. Meteoritics & Planetary Science, 56(5), 1024-1070 -  https://doi.org/10.1111/maps.13657\n",
    "\n",
    "Lagain, A., Bouley, S., Baratoux, D., Marmo, C., Costard, F., Delaa, O., Rossi, A. P., Minin, M., Benedix, G.K., Ciocco, M. Bedos, B., Guimpier, A., Dehouck, E., Loizeau, D., Bouquety, A., Zhao, J., Vialatte, A., et al. (2021) “Mars Crater Database: A Participative Project for the Classification of the Morphological Characteristics of Large Martian Craters.” In Large Meteorite Impacts and Planetary Evolution VI, edited by Wolf Uwe Reimold and Christian Koeberl, 629–44. Geological Society of America. DOI: 10.1130/2021.2550(29). - https://doi.org/10.1130/2021.2550(29)\n",
    "\n",
    "Lorenz et al. 2008 Lorenz, R.D., B.W. Stiles, R.L. Kirk, M.D. Allison, P. Persi del Marmo, L. Iess, J.I. Lunine, S.J. Ostro, and S. Hensley, 2008: Titan's rotation reveals an internal ocean and changing zonal winds. Science, 319, 1649-1651, https://doi:10.1126/science.1151639\n",
    "\n",
    "Riedel, C., Michael, G. G., Orgel, C., Baum, C., van der Bogert, C. H., & Hiesinger, H. (2021). Studying the global spatial randomness of impact craters on Mercury, Venus, and the Moon with geodesic neighborhood relationships. Journal of Geophysical Research: Planets, 126(3), e2020JE006693. - https://doi.org/10.1029/2020JE006693\n",
    "\n",
    "Robbins, S. J. (2019). A new global database of lunar impact craters> 1–2 km: 1. Crater locations and sizes, comparisons with published databases, and global analysis. Journal of Geophysical Research: Planets, 124(4), 871-892. - https://doi.org/10.1029/2018JE005592\n",
    "\n",
    "Schmieder, M., & Kring, D. A. (2020). Earth's impact events through geologic time: a list of recommended ages for terrestrial impact structures and deposits. Astrobiology, 20(1), 91-141. https://doi.org/10.1089/ast.2019.2085\n",
    "\n",
    "Zeilnhofer, M. (2020). A Global Analysis of Impact Craters on Ceres. ProQuest Dissertations & Theses Global, 1-251, proquest: 27963349, URL: https://search.proquest.com/openview/4e9a383f80b524bf68f755ff3649d02d\n",
    "\n",
    "Zeilnhofer, M.F., Barlow, N.G., (2021). The morphologic and morphometric characteristics of craters on Ceres and implications for the crust. Icarus. 368, 114428. https://doi.org/10.1016/j.icarus.2021.114428\n",
    "\n",
    "Zeilnhofer, M.F., Barlow, N.G., (2021). The Characterization and Distribution of Polygonal Impact Craters on Ceres and their Implications for the Cerean Crust. Icarus, 368, 114586, https://doi.org/10.1016/j.icarus.2021.114586\n",
    "\n",
    "Wang, Y., Wu, B., Xue, H., Li, X., & Ma, J. (2021). An improved global catalog of lunar impact craters (≥1 km) with 3D morphometric information and updates on global crater analysis. Journal of Geophysical Research: Planets, 126, e2020JE006728. - https://doi.org/10.1029/2020JE006728"
   ]
  }
 ],
 "metadata": {
  "kernelspec": {
   "display_name": "datas",
   "language": "python",
   "name": "datas"
  },
  "language_info": {
   "codemirror_mode": {
    "name": "ipython",
    "version": 3
   },
   "file_extension": ".py",
   "mimetype": "text/x-python",
   "name": "python",
   "nbconvert_exporter": "python",
   "pygments_lexer": "ipython3",
   "version": "3.7.13"
  }
 },
 "nbformat": 4,
 "nbformat_minor": 5
}
